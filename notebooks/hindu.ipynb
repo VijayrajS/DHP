{
 "cells": [
  {
   "cell_type": "code",
   "execution_count": 1,
   "metadata": {},
   "outputs": [],
   "source": [
    "import requests\n",
    "from bs4 import BeautifulSoup\n",
    "url = \"https://www.thehindu.com/topic/citizenship-amendment-act/?page=26\"\n",
    "r1 = requests.get(url)\n",
    "coverpage = r1.content\n",
    "soup1 = BeautifulSoup(coverpage, 'html5lib')"
   ]
  },
  {
   "cell_type": "code",
   "execution_count": null,
   "metadata": {},
   "outputs": [],
   "source": []
  },
  {
   "cell_type": "code",
   "execution_count": 2,
   "metadata": {},
   "outputs": [],
   "source": [
    "article_links = []\n"
   ]
  },
  {
   "cell_type": "code",
   "execution_count": 3,
   "metadata": {},
   "outputs": [
    {
     "name": "stdout",
     "output_type": "stream",
     "text": [
      "1\n",
      "2\n",
      "3\n",
      "4\n",
      "5\n",
      "6\n",
      "7\n",
      "8\n",
      "9\n",
      "10\n",
      "11\n",
      "12\n",
      "13\n",
      "14\n",
      "15\n",
      "16\n",
      "17\n",
      "18\n",
      "19\n",
      "20\n",
      "21\n",
      "22\n",
      "23\n",
      "24\n",
      "25\n",
      "26\n",
      "27\n",
      "28\n",
      "29\n",
      "30\n",
      "31\n",
      "32\n",
      "33\n",
      "34\n"
     ]
    }
   ],
   "source": [
    "counter = 1\n",
    "article_links = []\n",
    "while counter<35:\n",
    "    print(counter)\n",
    "    url = \"https://www.thehindu.com/topic/citizenship-amendment-act/?page=\" + str(counter)\n",
    "    r1 = requests.get(url)\n",
    "    coverpage = r1.content\n",
    "    soup1 = BeautifulSoup(coverpage, 'html5lib')\n",
    "    news_items = soup1.find_all('div', class_='50_1x_StoryCard')\n",
    "    \n",
    "    \n",
    "    for i in news_items:\n",
    "        x = i.find('a')['href']\n",
    "        article_links.append(x)\n",
    "    counter+=1\n",
    "    "
   ]
  },
  {
   "cell_type": "code",
   "execution_count": 4,
   "metadata": {},
   "outputs": [
    {
     "data": {
      "text/plain": [
       "1031"
      ]
     },
     "execution_count": 4,
     "metadata": {},
     "output_type": "execute_result"
    }
   ],
   "source": [
    "uniq = []\n",
    "for i in article_links:\n",
    "    if i not in uniq:\n",
    "        uniq.append(i)\n",
    "len(uniq)"
   ]
  },
  {
   "cell_type": "code",
   "execution_count": 5,
   "metadata": {},
   "outputs": [],
   "source": [
    "url =article_links[0]\n",
    "r1 = requests.get(url)\n",
    "coverpage = r1.content\n",
    "soup1 = BeautifulSoup(coverpage, 'html5lib')"
   ]
  },
  {
   "cell_type": "code",
   "execution_count": 6,
   "metadata": {},
   "outputs": [],
   "source": [
    "articles = []\n",
    "for j in article_links:\n",
    "    url = j\n",
    "    r1 = requests.get(url)\n",
    "    coverpage = r1.content\n",
    "    soup1 = BeautifulSoup(coverpage, 'html5lib')\n",
    "    x = soup1.find('div',class_='article').find_all('p')\n",
    "    text = []\n",
    "    for i in x:\n",
    "        try:\n",
    "            z =i['class']\n",
    "            break\n",
    "        except:\n",
    "            text.append(i.text)\n",
    "    time_s= soup1.find_all('span', class_='ksl-time-stamp')\n",
    "    for i in time_s:\n",
    "        if i.find('none'):\n",
    "            time = i.text\n",
    "    try:\n",
    "        d ={}\n",
    "        d['link'] = url\n",
    "        d['text'] = \"\\n\".join(text)\n",
    "        d['time'] = time\n",
    "        articles.append(d)\n",
    "    except:\n",
    "        print(url)\n"
   ]
  },
  {
   "cell_type": "code",
   "execution_count": 7,
   "metadata": {},
   "outputs": [],
   "source": [
    "import pickle \n",
    "with open('hindu_caa.pickle', 'wb') as handle:\n",
    "    pickle.dump(articles, handle)\n",
    "\n"
   ]
  },
  {
   "cell_type": "code",
   "execution_count": null,
   "metadata": {},
   "outputs": [],
   "source": []
  }
 ],
 "metadata": {
  "kernelspec": {
   "display_name": "Python 3",
   "language": "python",
   "name": "python3"
  },
  "language_info": {
   "codemirror_mode": {
    "name": "ipython",
    "version": 3
   },
   "file_extension": ".py",
   "mimetype": "text/x-python",
   "name": "python",
   "nbconvert_exporter": "python",
   "pygments_lexer": "ipython3",
   "version": "3.7.3"
  }
 },
 "nbformat": 4,
 "nbformat_minor": 4
}
