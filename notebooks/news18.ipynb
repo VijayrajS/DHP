{
 "cells": [
  {
   "cell_type": "code",
   "execution_count": 68,
   "metadata": {},
   "outputs": [],
   "source": [
    "from selenium import webdriver\n",
    "from selenium.webdriver.chrome.options import Options\n",
    "import pandas as pd"
   ]
  },
  {
   "cell_type": "code",
   "execution_count": null,
   "metadata": {},
   "outputs": [],
   "source": []
  },
  {
   "cell_type": "code",
   "execution_count": 69,
   "metadata": {},
   "outputs": [
    {
     "name": "stderr",
     "output_type": "stream",
     "text": [
      "/home/badwolf/anaconda3/lib/python3.7/site-packages/ipykernel_launcher.py:3: DeprecationWarning: use options instead of chrome_options\n",
      "  This is separate from the ipykernel package so we can avoid doing imports until\n"
     ]
    }
   ],
   "source": [
    "options = Options()\n",
    "options.binary_location = \"/bin/chromium\"\n",
    "driver = webdriver.Chrome(chrome_options=options, executable_path='/run/media/badwolf/Windows/Users/Urja Nadibail/acads/chromedriver')"
   ]
  },
  {
   "cell_type": "code",
   "execution_count": 70,
   "metadata": {},
   "outputs": [],
   "source": [
    "driver.get('https://www.news18.com/')\n",
    "article_links = []\n",
    "news_items = soup1.find_all('div', class_='item-details')\n"
   ]
  },
  {
   "cell_type": "code",
   "execution_count": 114,
   "metadata": {},
   "outputs": [],
   "source": [
    "c = driver.find_element_by_class_name('gsc-expansionArea')\n",
    "results = c.find_elements_by_class_name('gs-title')"
   ]
  },
  {
   "cell_type": "code",
   "execution_count": 116,
   "metadata": {},
   "outputs": [],
   "source": [
    "links = []\n",
    "for i in results:\n",
    "    try:\n",
    "        links.append(i.find_element_by_class_name('gs-title').get_attribute('href'))\n",
    "    except:\n",
    "        pass"
   ]
  },
  {
   "cell_type": "code",
   "execution_count": 121,
   "metadata": {},
   "outputs": [],
   "source": [
    "uniq = []\n",
    "for i in links:\n",
    "    if i not in uniq:\n",
    "        uniq.append(i)"
   ]
  },
  {
   "cell_type": "code",
   "execution_count": 124,
   "metadata": {},
   "outputs": [
    {
     "name": "stdout",
     "output_type": "stream",
     "text": [
      "https://www.google.com/url?client=internal-element-cse&cx=017500531210951933434:xmqutf8eyba&q=https://www.news18.com/news/politics/as-up-becomes-1st-state-to-begin-caa-implementation-40000-refugees-identified-maximum-in-pilibhit-2456539.html&sa=U&ved=2ahUKEwiZiZfbrYvnAhWvzjgGHapWDOUQFjAAegQIBBAC&usg=AOvVaw3kuXhb2r1yRQtoT5wLSvr1\n",
      "https://www.news18.com/news/politics/as-up-becomes-1st-state-to-begin-caa-implementation-40000-refugees-identified-maximum-in-pilibhit-2456539.html\n",
      "https://www.news18.com/news/india/as-sea-of-protesters-joins-anti-caa-rally-in-mangalore-scores-reach-venue-via-boats-2460063.html\n",
      "https://www.news18.com/news/india/if-unity-is-not-there-amartya-sen-has-a-message-for-people-protesting-against-caa-2457091.html\n",
      "https://www.news18.com/news/politics/quit-bjp-with-30-mlas-well-make-you-cm-of-new-anti-caa-govt-again-cong-leaders-offer-to-sonowal-2454999.html\n",
      "https://www.news18.com/news/india/delhi-police-to-persuade-shaheen-bagh-women-to-end-anti-caa-stir-after-hc-says-handle-as-per-your-wisdom-2457965.html\n",
      "https://www.news18.com/news/india/delhi-police-appeals-shaheen-bagh-anti-caa-protesters-to-clear-road-2462685.html\n",
      "https://www.news18.com/news/opinion/opinion-making-sense-of-anti-caa-hysteria-2431161.html\n",
      "https://www.news18.com/news/politics/vivekananda-against-caa-nrc-in-major-goof-up-bjp-leader-adds-wrong-hashtag-tweet-goes-viral-2455623.html\n",
      "https://www.news18.com/news/politics/no-caa-in-maharashtra-says-shiv-sena-blames-miscommunication-for-skipping-cong-led-oppn-meet-2456553.html\n",
      "https://www.news18.com/news/india/punjab-govt-to-move-sc-over-caa-says-amarinder-singh-after-assembly-passes-resolution-against-the-law-2462305.html\n"
     ]
    }
   ],
   "source": [
    "for i in uniq:\n",
    "    print(i)"
   ]
  },
  {
   "cell_type": "code",
   "execution_count": 125,
   "metadata": {},
   "outputs": [],
   "source": [
    "import requests\n",
    "from bs4 import BeautifulSoup\n",
    "url = \"https://www.news18.com/newstopics/caa.html\"\n",
    "r1 = requests.get(url)\n",
    "coverpage = r1.content\n",
    "soup1 = BeautifulSoup(coverpage, 'html5lib')"
   ]
  },
  {
   "cell_type": "code",
   "execution_count": 143,
   "metadata": {},
   "outputs": [
    {
     "data": {
      "text/plain": [
       "\"'Aadhaar, PAN Cards Not Proof': Dilip Ghosh Urges Refugees to Get Citizenship Under CAA\""
      ]
     },
     "execution_count": 143,
     "metadata": {},
     "output_type": "execute_result"
    }
   ],
   "source": [
    "news_items = soup1.find('div', class_='search-listing')\n",
    "news_items.find_all('ul')[1].find_all('li')[0].find('h2').text"
   ]
  },
  {
   "cell_type": "code",
   "execution_count": 200,
   "metadata": {},
   "outputs": [
    {
     "name": "stdout",
     "output_type": "stream",
     "text": [
      "1\n",
      "2\n",
      "3\n",
      "4\n",
      "5\n",
      "6\n",
      "7\n",
      "8\n",
      "9\n",
      "10\n",
      "11\n",
      "12\n",
      "13\n",
      "14\n",
      "15\n",
      "16\n",
      "17\n",
      "18\n",
      "19\n",
      "20\n",
      "21\n",
      "22\n",
      "23\n",
      "24\n",
      "25\n",
      "26\n",
      "27\n",
      "28\n",
      "29\n",
      "30\n",
      "31\n",
      "32\n",
      "33\n",
      "34\n",
      "35\n",
      "36\n",
      "37\n",
      "38\n",
      "39\n",
      "40\n",
      "41\n",
      "42\n",
      "43\n",
      "44\n",
      "45\n",
      "46\n",
      "47\n",
      "48\n",
      "49\n",
      "50\n",
      "51\n",
      "52\n",
      "53\n",
      "54\n",
      "55\n",
      "56\n",
      "57\n",
      "58\n",
      "59\n",
      "60\n",
      "61\n",
      "62\n",
      "63\n",
      "64\n",
      "65\n",
      "66\n",
      "67\n",
      "68\n",
      "69\n",
      "70\n",
      "71\n",
      "72\n",
      "73\n",
      "74\n",
      "75\n",
      "76\n",
      "77\n",
      "78\n",
      "79\n",
      "80\n",
      "81\n",
      "82\n",
      "83\n",
      "84\n",
      "85\n",
      "86\n",
      "87\n",
      "88\n",
      "89\n",
      "90\n",
      "91\n",
      "92\n",
      "93\n",
      "94\n",
      "95\n",
      "96\n",
      "97\n",
      "98\n",
      "99\n"
     ]
    }
   ],
   "source": [
    "count = 1\n",
    "article_links = []\n",
    "while count<100:\n",
    "    print(count)\n",
    "    url = \"https://www.news18.com/newstopics/nrc/page\" +str(count) + \"/\" \n",
    "    r1 = requests.get(url)\n",
    "    coverpage = r1.content\n",
    "    soup1 = BeautifulSoup(coverpage, 'html5lib')\n",
    "    news_items = soup1.find('div', class_='search-listing').find_all('ul')[1].find_all('li')\n",
    "        \n",
    "    for i in news_items:\n",
    "        d ={}\n",
    "        d['link'] = i.find('a')['href']\n",
    "        d['title'] = i.find('h2').text\n",
    "        article_links.append(d)\n",
    "    count+=1\n",
    "    "
   ]
  },
  {
   "cell_type": "code",
   "execution_count": 149,
   "metadata": {},
   "outputs": [],
   "source": [
    "url=article_links[0]['link']"
   ]
  },
  {
   "cell_type": "code",
   "execution_count": 151,
   "metadata": {},
   "outputs": [],
   "source": [
    "r1 = requests.get(url)\n",
    "coverpage = r1.content\n",
    "soup1 = BeautifulSoup(coverpage, 'html5lib')"
   ]
  },
  {
   "cell_type": "code",
   "execution_count": 158,
   "metadata": {},
   "outputs": [
    {
     "data": {
      "text/plain": [
       "'\"...This is misleading because refugees have to seek citizenship through new the citizenship law. If you do not submit your details, you will be in trouble,\" Ghosh said.\\n'"
      ]
     },
     "execution_count": 158,
     "metadata": {},
     "output_type": "execute_result"
    }
   ],
   "source": [
    "soup1.find('div',id='article_body').find_all('p')[2].text"
   ]
  },
  {
   "cell_type": "code",
   "execution_count": 170,
   "metadata": {},
   "outputs": [
    {
     "name": "stdout",
     "output_type": "stream",
     "text": [
      "January 17, 2020, 11:30 PM IST\n"
     ]
    }
   ],
   "source": [
    "for i in soup1.find_all('span'):\n",
    "    if i.find('strong'):\n",
    "        t = i.text\n",
    "        t1= i.find('strong').text\n",
    "        t=t[len(t1):]\n",
    "        print(t)\n",
    "        \n",
    "        "
   ]
  },
  {
   "cell_type": "code",
   "execution_count": 201,
   "metadata": {},
   "outputs": [
    {
     "name": "stdout",
     "output_type": "stream",
     "text": [
      "0\n"
     ]
    },
    {
     "ename": "AttributeError",
     "evalue": "'NoneType' object has no attribute 'find_all'",
     "output_type": "error",
     "traceback": [
      "\u001b[0;31m---------------------------------------------\u001b[0m",
      "\u001b[0;31mAttributeError\u001b[0mTraceback (most recent call last)",
      "\u001b[0;32m<ipython-input-201-caefb0f0e104>\u001b[0m in \u001b[0;36m<module>\u001b[0;34m\u001b[0m\n\u001b[1;32m     12\u001b[0m     \u001b[0msoup1\u001b[0m \u001b[0;34m=\u001b[0m \u001b[0mBeautifulSoup\u001b[0m\u001b[0;34m(\u001b[0m\u001b[0mcoverpage\u001b[0m\u001b[0;34m,\u001b[0m \u001b[0;34m'html5lib'\u001b[0m\u001b[0;34m)\u001b[0m\u001b[0;34m\u001b[0m\u001b[0;34m\u001b[0m\u001b[0m\n\u001b[1;32m     13\u001b[0m     \u001b[0mtext\u001b[0m \u001b[0;34m=\u001b[0m \u001b[0;34m[\u001b[0m\u001b[0;34m]\u001b[0m\u001b[0;34m\u001b[0m\u001b[0;34m\u001b[0m\u001b[0m\n\u001b[0;32m---> 14\u001b[0;31m     \u001b[0mtt\u001b[0m \u001b[0;34m=\u001b[0m \u001b[0msoup1\u001b[0m\u001b[0;34m.\u001b[0m\u001b[0mfind\u001b[0m\u001b[0;34m(\u001b[0m\u001b[0;34m'div'\u001b[0m\u001b[0;34m,\u001b[0m\u001b[0mid\u001b[0m\u001b[0;34m=\u001b[0m\u001b[0;34m'article_body'\u001b[0m\u001b[0;34m)\u001b[0m\u001b[0;34m.\u001b[0m\u001b[0mfind_all\u001b[0m\u001b[0;34m(\u001b[0m\u001b[0;34m'p'\u001b[0m\u001b[0;34m)\u001b[0m\u001b[0;34m\u001b[0m\u001b[0;34m\u001b[0m\u001b[0m\n\u001b[0m\u001b[1;32m     15\u001b[0m     \u001b[0;32mfor\u001b[0m \u001b[0mj\u001b[0m \u001b[0;32min\u001b[0m \u001b[0mtt\u001b[0m\u001b[0;34m:\u001b[0m\u001b[0;34m\u001b[0m\u001b[0;34m\u001b[0m\u001b[0m\n\u001b[1;32m     16\u001b[0m         \u001b[0mtext\u001b[0m\u001b[0;34m.\u001b[0m\u001b[0mappend\u001b[0m\u001b[0;34m(\u001b[0m\u001b[0mj\u001b[0m\u001b[0;34m.\u001b[0m\u001b[0mtext\u001b[0m\u001b[0;34m)\u001b[0m\u001b[0;34m\u001b[0m\u001b[0;34m\u001b[0m\u001b[0m\n",
      "\u001b[0;31mAttributeError\u001b[0m: 'NoneType' object has no attribute 'find_all'"
     ]
    }
   ],
   "source": [
    "news_arts = []\n",
    "count = 0\n",
    "tot = len(article_links)\n",
    "for i in article_links:\n",
    "    if count%100 == 0:\n",
    "        print(count)\n",
    "    count+=1\n",
    "        \n",
    "    url = i['link']\n",
    "    r1 = requests.get(url)\n",
    "    coverpage = r1.content\n",
    "    soup1 = BeautifulSoup(coverpage, 'html5lib')\n",
    "    text = []\n",
    "    tt = soup1.find('div',id='article_body').find_all('p')\n",
    "    for j in tt:\n",
    "        text.append(j.text)\n",
    "    time = []\n",
    "    for j in soup1.find_all('span'):\n",
    "        if j.find('strong'):\n",
    "            t = j.text\n",
    "            t1= j.find('strong').text\n",
    "            t=t[len(t1):]\n",
    "            time.append(t)\n",
    "    d = {}\n",
    "    d['url'] = url\n",
    "    d['text'] = \" \".join(text)\n",
    "    d['time'] = time[0]\n",
    "    d['title'] = i['title']\n",
    "    news_arts.append(d)\n",
    "        \n",
    "        \n",
    "    \n",
    "    \n",
    "    \n",
    "    \n",
    "    \n",
    "    "
   ]
  },
  {
   "cell_type": "code",
   "execution_count": 202,
   "metadata": {},
   "outputs": [],
   "source": [
    "uniq = []\n",
    "for i in news_arts:\n",
    "    if i not in uniq:\n",
    "        uniq.append(i)\n",
    "    \n",
    "import pickle\n",
    "with open('news18_nrc.pickle', 'wb') as handle:\n",
    "    pickle.dump(uniq, handle, protocol=pickle.HIGHEST_PROTOCOL)"
   ]
  },
  {
   "cell_type": "code",
   "execution_count": 203,
   "metadata": {},
   "outputs": [],
   "source": [
    "with open('news18_nrc.txt','w') as handle:\n",
    "    for i in uniq:\n",
    "        handle.write(i['title'])\n",
    "        handle.write('\\n')   \n",
    "        handle.write(i['time'])\n",
    "        handle.write('\\n')  \n",
    "        handle.write(i['url'])\n",
    "        handle.write('\\n')  \n",
    "        handle.write(i['text'])\n",
    "        handle.write('\\n')  \n",
    "        handle.write('\\n')  \n",
    "        \n",
    "        \n",
    "        "
   ]
  },
  {
   "cell_type": "code",
   "execution_count": 193,
   "metadata": {},
   "outputs": [
    {
     "data": {
      "text/plain": [
       "91"
      ]
     },
     "execution_count": 193,
     "metadata": {},
     "output_type": "execute_result"
    }
   ],
   "source": [
    "len(news_arts)"
   ]
  },
  {
   "cell_type": "code",
   "execution_count": 197,
   "metadata": {},
   "outputs": [],
   "source": []
  },
  {
   "cell_type": "code",
   "execution_count": 196,
   "metadata": {},
   "outputs": [
    {
     "name": "stdout",
     "output_type": "stream",
     "text": [
      "Rahul Has No Knowledge about Amended Citizenship Law, Says JP Nadda\n",
      "India's National Anthem is a Protest Song, Tells Us What Makes a Country: TM Krishna\n",
      "Windows 7 is Dead: Microsoft Says Buying an Expensive New Surface is a Solution\n",
      "Boycott Windows? Twitter Mocks India's 'Cancel Culture' After Satya Nadella's Comments on CAA\n",
      "Satya Nadella is Already Using The Surface Duo Foldable Phone, And it is Just Darn Slick\n",
      "Amit Shah Unveils 5.5 Lakh Letters Written to PM by Ahmedabad Residents Supporting CAA\n",
      "Dear Sanskaris, Understand Your Own Religion Before Calling Faiz or 'Hum Dekhenge' Anti-Hindu\n",
      "'Asked to Step Out With Rods, Acid': ABVP Delhi Joint Secretary Admits Its Men Were Armed in JNU\n",
      "Watch: Students Sing Faiz's 'Hum Dekhenge' on Top of Mountain, Thousands of Feet from Ground\n",
      "10 Madrassa Students Held for Violence During Anti-CAA Stir in Muzaffarnagar Granted Bail\n",
      "25 PFI Workers Linked to CAA Protests Arrested in UP, Say Police\n",
      "NPR & NRC: Two Sides of The Same Coin?\n",
      "2019: The Year of Political Hubris in Which Even The ‘Superhero’ Met His Kryptonite\n",
      "Indian State Must Respect Human Need for Identity While Negotiating With Its Diverse People\n",
      "'Mind Your Business': Chidambaram Slams Army Chief Bipin Rawat over Remarks on Anti-CAA Protests\n",
      "Ending 2019 on a High, It's Time for Cong to Rip Off Band-Aid & Perform Major Surgery to Keep Breathing\n",
      "OPINION | Six Claims Around CAA-NRC Pushed By The Ruling Party Which Are Far From The Truth\n",
      "'Fear My Bigoted Parents More Than Police': Wars On WhatsApp Over NRC-CAA Protests Divide Families\n",
      "Plea Moved in Delhi High Court for Recovery of Damages for Property Destroyed in Citizenship Law Stir\n",
      "New18 Wrap: JMM Trumps BJP in Jharkhand, Hemant Soren Set to be Next CM & Other Stories You Missed\n",
      "Rahul Has No Knowledge about Amended Citizenship Law, Says JP Nadda\n",
      "India's National Anthem is a Protest Song, Tells Us What Makes a Country: TM Krishna\n",
      "Windows 7 is Dead: Microsoft Says Buying an Expensive New Surface is a Solution\n",
      "Boycott Windows? Twitter Mocks India's 'Cancel Culture' After Satya Nadella's Comments on CAA\n",
      "Satya Nadella is Already Using The Surface Duo Foldable Phone, And it is Just Darn Slick\n",
      "Amit Shah Unveils 5.5 Lakh Letters Written to PM by Ahmedabad Residents Supporting CAA\n",
      "Dear Sanskaris, Understand Your Own Religion Before Calling Faiz or 'Hum Dekhenge' Anti-Hindu\n",
      "'Asked to Step Out With Rods, Acid': ABVP Delhi Joint Secretary Admits Its Men Were Armed in JNU\n",
      "Watch: Students Sing Faiz's 'Hum Dekhenge' on Top of Mountain, Thousands of Feet from Ground\n",
      "10 Madrassa Students Held for Violence During Anti-CAA Stir in Muzaffarnagar Granted Bail\n",
      "25 PFI Workers Linked to CAA Protests Arrested in UP, Say Police\n",
      "NPR & NRC: Two Sides of The Same Coin?\n",
      "2019: The Year of Political Hubris in Which Even The ‘Superhero’ Met His Kryptonite\n",
      "Indian State Must Respect Human Need for Identity While Negotiating With Its Diverse People\n",
      "'Mind Your Business': Chidambaram Slams Army Chief Bipin Rawat over Remarks on Anti-CAA Protests\n",
      "Ending 2019 on a High, It's Time for Cong to Rip Off Band-Aid & Perform Major Surgery to Keep Breathing\n",
      "OPINION | Six Claims Around CAA-NRC Pushed By The Ruling Party Which Are Far From The Truth\n",
      "'Fear My Bigoted Parents More Than Police': Wars On WhatsApp Over NRC-CAA Protests Divide Families\n",
      "Plea Moved in Delhi High Court for Recovery of Damages for Property Destroyed in Citizenship Law Stir\n",
      "New18 Wrap: JMM Trumps BJP in Jharkhand, Hemant Soren Set to be Next CM & Other Stories You Missed\n",
      "Rahul Has No Knowledge about Amended Citizenship Law, Says JP Nadda\n",
      "India's National Anthem is a Protest Song, Tells Us What Makes a Country: TM Krishna\n",
      "Windows 7 is Dead: Microsoft Says Buying an Expensive New Surface is a Solution\n",
      "Boycott Windows? Twitter Mocks India's 'Cancel Culture' After Satya Nadella's Comments on CAA\n",
      "Satya Nadella is Already Using The Surface Duo Foldable Phone, And it is Just Darn Slick\n",
      "Amit Shah Unveils 5.5 Lakh Letters Written to PM by Ahmedabad Residents Supporting CAA\n",
      "Dear Sanskaris, Understand Your Own Religion Before Calling Faiz or 'Hum Dekhenge' Anti-Hindu\n",
      "'Asked to Step Out With Rods, Acid': ABVP Delhi Joint Secretary Admits Its Men Were Armed in JNU\n",
      "Watch: Students Sing Faiz's 'Hum Dekhenge' on Top of Mountain, Thousands of Feet from Ground\n",
      "10 Madrassa Students Held for Violence During Anti-CAA Stir in Muzaffarnagar Granted Bail\n",
      "25 PFI Workers Linked to CAA Protests Arrested in UP, Say Police\n",
      "NPR & NRC: Two Sides of The Same Coin?\n",
      "2019: The Year of Political Hubris in Which Even The ‘Superhero’ Met His Kryptonite\n",
      "Indian State Must Respect Human Need for Identity While Negotiating With Its Diverse People\n",
      "'Mind Your Business': Chidambaram Slams Army Chief Bipin Rawat over Remarks on Anti-CAA Protests\n",
      "Ending 2019 on a High, It's Time for Cong to Rip Off Band-Aid & Perform Major Surgery to Keep Breathing\n",
      "OPINION | Six Claims Around CAA-NRC Pushed By The Ruling Party Which Are Far From The Truth\n",
      "'Fear My Bigoted Parents More Than Police': Wars On WhatsApp Over NRC-CAA Protests Divide Families\n",
      "Plea Moved in Delhi High Court for Recovery of Damages for Property Destroyed in Citizenship Law Stir\n",
      "New18 Wrap: JMM Trumps BJP in Jharkhand, Hemant Soren Set to be Next CM & Other Stories You Missed\n",
      "Rahul Has No Knowledge about Amended Citizenship Law, Says JP Nadda\n",
      "India's National Anthem is a Protest Song, Tells Us What Makes a Country: TM Krishna\n",
      "Windows 7 is Dead: Microsoft Says Buying an Expensive New Surface is a Solution\n",
      "Boycott Windows? Twitter Mocks India's 'Cancel Culture' After Satya Nadella's Comments on CAA\n",
      "Satya Nadella is Already Using The Surface Duo Foldable Phone, And it is Just Darn Slick\n",
      "Amit Shah Unveils 5.5 Lakh Letters Written to PM by Ahmedabad Residents Supporting CAA\n",
      "Dear Sanskaris, Understand Your Own Religion Before Calling Faiz or 'Hum Dekhenge' Anti-Hindu\n",
      "'Asked to Step Out With Rods, Acid': ABVP Delhi Joint Secretary Admits Its Men Were Armed in JNU\n",
      "Watch: Students Sing Faiz's 'Hum Dekhenge' on Top of Mountain, Thousands of Feet from Ground\n",
      "10 Madrassa Students Held for Violence During Anti-CAA Stir in Muzaffarnagar Granted Bail\n",
      "25 PFI Workers Linked to CAA Protests Arrested in UP, Say Police\n",
      "NPR & NRC: Two Sides of The Same Coin?\n",
      "2019: The Year of Political Hubris in Which Even The ‘Superhero’ Met His Kryptonite\n",
      "Indian State Must Respect Human Need for Identity While Negotiating With Its Diverse People\n",
      "'Mind Your Business': Chidambaram Slams Army Chief Bipin Rawat over Remarks on Anti-CAA Protests\n",
      "Ending 2019 on a High, It's Time for Cong to Rip Off Band-Aid & Perform Major Surgery to Keep Breathing\n",
      "OPINION | Six Claims Around CAA-NRC Pushed By The Ruling Party Which Are Far From The Truth\n",
      "'Fear My Bigoted Parents More Than Police': Wars On WhatsApp Over NRC-CAA Protests Divide Families\n",
      "Plea Moved in Delhi High Court for Recovery of Damages for Property Destroyed in Citizenship Law Stir\n",
      "New18 Wrap: JMM Trumps BJP in Jharkhand, Hemant Soren Set to be Next CM & Other Stories You Missed\n",
      "Rahul Has No Knowledge about Amended Citizenship Law, Says JP Nadda\n",
      "India's National Anthem is a Protest Song, Tells Us What Makes a Country: TM Krishna\n",
      "Windows 7 is Dead: Microsoft Says Buying an Expensive New Surface is a Solution\n",
      "Boycott Windows? Twitter Mocks India's 'Cancel Culture' After Satya Nadella's Comments on CAA\n",
      "Satya Nadella is Already Using The Surface Duo Foldable Phone, And it is Just Darn Slick\n",
      "Amit Shah Unveils 5.5 Lakh Letters Written to PM by Ahmedabad Residents Supporting CAA\n",
      "Dear Sanskaris, Understand Your Own Religion Before Calling Faiz or 'Hum Dekhenge' Anti-Hindu\n",
      "'Asked to Step Out With Rods, Acid': ABVP Delhi Joint Secretary Admits Its Men Were Armed in JNU\n",
      "Watch: Students Sing Faiz's 'Hum Dekhenge' on Top of Mountain, Thousands of Feet from Ground\n",
      "10 Madrassa Students Held for Violence During Anti-CAA Stir in Muzaffarnagar Granted Bail\n",
      "25 PFI Workers Linked to CAA Protests Arrested in UP, Say Police\n"
     ]
    }
   ],
   "source": []
  },
  {
   "cell_type": "code",
   "execution_count": null,
   "metadata": {},
   "outputs": [],
   "source": []
  }
 ],
 "metadata": {
  "kernelspec": {
   "display_name": "Python 3",
   "language": "python",
   "name": "python3"
  },
  "language_info": {
   "codemirror_mode": {
    "name": "ipython",
    "version": 3
   },
   "file_extension": ".py",
   "mimetype": "text/x-python",
   "name": "python",
   "nbconvert_exporter": "python",
   "pygments_lexer": "ipython3",
   "version": "3.7.3"
  }
 },
 "nbformat": 4,
 "nbformat_minor": 4
}
