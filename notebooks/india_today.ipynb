{
 "cells": [
  {
   "cell_type": "code",
   "execution_count": 2,
   "metadata": {},
   "outputs": [],
   "source": [
    "import requests\n",
    "from bs4 import BeautifulSoup\n",
    "url = \"https://www.indiatoday.in/topic/CAA/Story\"\n",
    "r1 = requests.get(url)\n",
    "coverpage = r1.content\n",
    "soup1 = BeautifulSoup(coverpage, 'html5lib')"
   ]
  },
  {
   "cell_type": "code",
   "execution_count": 30,
   "metadata": {},
   "outputs": [],
   "source": [
    "article_links = []\n",
    "news_items = soup1.find_all('li', class_='itg-search-list')\n"
   ]
  },
  {
   "cell_type": "code",
   "execution_count": 31,
   "metadata": {},
   "outputs": [],
   "source": [
    "\n",
    "for i in news_items:\n",
    "    x = i.find('a')['href']\n",
    "    article_links.append(x)\n",
    "    \n"
   ]
  },
  {
   "cell_type": "code",
   "execution_count": 82,
   "metadata": {},
   "outputs": [
    {
     "name": "stdout",
     "output_type": "stream",
     "text": [
      "55\n",
      "55\n",
      "55\n",
      "55\n",
      "55\n",
      "55\n",
      "55\n",
      "55\n",
      "55\n",
      "55\n",
      "55\n",
      "55\n",
      "55\n",
      "55\n",
      "55\n",
      "55\n",
      "55\n",
      "55\n",
      "55\n",
      "55\n",
      "55\n",
      "55\n",
      "55\n",
      "55\n",
      "55\n",
      "55\n",
      "55\n",
      "55\n",
      "55\n",
      "55\n",
      "55\n",
      "55\n",
      "55\n",
      "55\n",
      "55\n",
      "55\n",
      "55\n",
      "55\n",
      "55\n",
      "55\n",
      "55\n",
      "55\n",
      "55\n",
      "55\n",
      "55\n",
      "55\n",
      "55\n",
      "55\n",
      "55\n",
      "55\n",
      "55\n",
      "55\n",
      "55\n",
      "55\n"
     ]
    }
   ],
   "source": [
    "counter = 1\n",
    "article_links = []\n",
    "while counter<55:\n",
    "    print(count)\n",
    "    url = \"https://www.indiatoday.in/topic/NRC/Story?page=\" + str(counter)\n",
    "    r1 = requests.get(url)\n",
    "    coverpage = r1.content\n",
    "    soup1 = BeautifulSoup(coverpage, 'html5lib')\n",
    "    news_items = soup1.find_all('li', class_='itg-search-list')\n",
    "    \n",
    "    for i in news_items:\n",
    "        x = i.find('a')['href']\n",
    "        article_links.append(x)\n",
    "    counter+=1\n",
    "    "
   ]
  },
  {
   "cell_type": "code",
   "execution_count": 83,
   "metadata": {},
   "outputs": [
    {
     "data": {
      "text/plain": [
       "810"
      ]
     },
     "execution_count": 83,
     "metadata": {},
     "output_type": "execute_result"
    }
   ],
   "source": [
    "uniq = []\n",
    "for i in article_links:\n",
    "    if i not in uniq:\n",
    "        uniq.append(i)\n",
    "len(uniq)"
   ]
  },
  {
   "cell_type": "code",
   "execution_count": 76,
   "metadata": {},
   "outputs": [
    {
     "name": "stdout",
     "output_type": "stream",
     "text": [
      "0\n"
     ]
    },
    {
     "ename": "TypeError",
     "evalue": "string indices must be integers",
     "output_type": "error",
     "traceback": [
      "\u001b[0;31m---------------------------------------------------------------------------\u001b[0m",
      "\u001b[0;31mTypeError\u001b[0m                                 Traceback (most recent call last)",
      "\u001b[0;32m<ipython-input-76-280bb55ca0e0>\u001b[0m in \u001b[0;36m<module>\u001b[0;34m\u001b[0m\n\u001b[1;32m      5\u001b[0m     \u001b[0;32mif\u001b[0m \u001b[0mcounter\u001b[0m \u001b[0;34m%\u001b[0m \u001b[0;36m10\u001b[0m \u001b[0;34m==\u001b[0m \u001b[0;36m0\u001b[0m\u001b[0;34m:\u001b[0m\u001b[0;34m\u001b[0m\u001b[0;34m\u001b[0m\u001b[0m\n\u001b[1;32m      6\u001b[0m         \u001b[0mprint\u001b[0m\u001b[0;34m(\u001b[0m\u001b[0mcounter\u001b[0m\u001b[0;34m)\u001b[0m\u001b[0;34m\u001b[0m\u001b[0;34m\u001b[0m\u001b[0m\n\u001b[0;32m----> 7\u001b[0;31m     \u001b[0murl\u001b[0m \u001b[0;34m=\u001b[0m \u001b[0mi\u001b[0m\u001b[0;34m[\u001b[0m\u001b[0;34m'link'\u001b[0m\u001b[0;34m]\u001b[0m\u001b[0;34m\u001b[0m\u001b[0;34m\u001b[0m\u001b[0m\n\u001b[0m\u001b[1;32m      8\u001b[0m     \u001b[0mr1\u001b[0m \u001b[0;34m=\u001b[0m \u001b[0mrequests\u001b[0m\u001b[0;34m.\u001b[0m\u001b[0mget\u001b[0m\u001b[0;34m(\u001b[0m\u001b[0murl\u001b[0m\u001b[0;34m)\u001b[0m\u001b[0;34m\u001b[0m\u001b[0;34m\u001b[0m\u001b[0m\n\u001b[1;32m      9\u001b[0m     \u001b[0mcoverpage\u001b[0m \u001b[0;34m=\u001b[0m \u001b[0mr1\u001b[0m\u001b[0;34m.\u001b[0m\u001b[0mcontent\u001b[0m\u001b[0;34m\u001b[0m\u001b[0;34m\u001b[0m\u001b[0m\n",
      "\u001b[0;31mTypeError\u001b[0m: string indices must be integers"
     ]
    }
   ],
   "source": []
  },
  {
   "cell_type": "code",
   "execution_count": 84,
   "metadata": {},
   "outputs": [
    {
     "name": "stdout",
     "output_type": "stream",
     "text": [
      "https://www.indiatoday.in/magazine/cover-story/story/20200203-that-uneasy-feeling-1639306-2020-01-24\n",
      "https://www.indiatoday.in/magazine/mood-of-the-nation/story/20200203-time-for-a-free-hand-1639303-2020-01-24\n",
      "https://www.indiatoday.in/magazine/mood-of-the-nation/story/20200203-a-common-cause-1639307-2020-01-24\n",
      "https://www.indiatoday.in/magazine/editor-s-note/story/20200203-from-the-editor-in-chief-1639300-2020-01-24\n",
      "https://www.indiatoday.in/magazine/leisure/story/20200203-the-other-fight-for-freedom-cinema-1639440-2020-01-24\n",
      "https://www.indiatoday.in/magazine/up-front/story/20200127-the-federal-push-against-caa-nric-1637380-2020-01-17\n",
      "https://www.indiatoday.in/magazine/editor-s-note/story/20200127-from-the-editor-in-chief-1637254-2020-01-17\n",
      "https://www.indiatoday.in/magazine/interview/story/20200127-whenever-the-nrc-is-carried-out-there-will-be-no-victimisation-ravi-shankar-prasad-1637252-2020-01-17\n",
      "https://www.indiatoday.in/magazine/states/story/20200127-a-turn-in-the-tide-bihar-1637255-2020-01-17\n",
      "https://www.indiatoday.in/magazine/up-front/story/20200127-the-man-with-the-moves-1637353-2020-01-17\n",
      "https://www.indiatoday.in/magazine/cover-story/story/20200120-who-is-not-a-citizen-1635189-2020-01-10\n",
      "https://www.indiatoday.in/magazine/cover-story/story/20200120-anatomy-of-a-protest-1635164-2020-01-10\n",
      "https://www.indiatoday.in/magazine/cover-story/story/20200120-why-are-they-angry-1635163-2020-01-10\n",
      "https://www.indiatoday.in/magazine/states/story/20200120-the-battle-for-delhi-1635266-2020-01-10\n",
      "https://www.indiatoday.in/magazine/editor-s-note/story/20200120-from-the-editor-in-chief-1635166-2020-01-10\n",
      "https://www.indiatoday.in/magazine/interview/story/20200120-who-is-not-a-citizen-1635162-2020-01-10\n",
      "https://www.indiatoday.in/magazine/cover-story/story/20200120-the-citizenship-question-1635161-2020-01-10\n",
      "https://www.indiatoday.in/magazine/cover-story/story/20200113-finally-number-one-1633253-2020-01-03\n",
      "https://www.indiatoday.in/magazine/cover-story/story/20200113-future-shock-1633250-2020-01-03\n",
      "https://www.indiatoday.in/magazine/up-front/story/20200113-battleground-up-1633240-2020-01-03\n",
      "https://www.indiatoday.in/magazine/leisure/story/20200113-politics-of-protest-1633392-2020-01-03\n",
      "https://www.indiatoday.in/magazine/interview/story/20200113-don-rsquo-t-want-people-to-stand-in-the-queue-again-for-nrc-1633234-2020-01-03\n",
      "https://www.indiatoday.in/magazine/interview/story/20200113-shah-has-created-fear-about-india-becoming-a-lsquo-hindu-rashtra-rsquo-1633233-2020-01-03\n",
      "https://www.indiatoday.in/magazine/cover-story/story/20200106-uncertain-justice-1631595-2019-12-27\n",
      "https://www.indiatoday.in/magazine/cover-story/story/20200106-straight-bat-1631641-2019-12-27\n",
      "https://www.indiatoday.in/magazine/assembly-polls/story/20200106-saffron-feels-the-shrink-1631590-2019-12-27\n",
      "https://www.indiatoday.in/magazine/editor-s-note/story/20200106-from-the-editor-in-chief-1632022-2019-12-27\n",
      "https://www.indiatoday.in/magazine/up-front/story/20200106-glasshouse-1631907-2019-12-27\n",
      "https://www.indiatoday.in/magazine/up-front/story/20200106-perspective-india-us-2-2-dialogue-a-complex-equation-1631676-2019-12-27\n",
      "https://www.indiatoday.in/magazine/index/story/20200106-does-india-need-nrc-1631668-2019-12-27\n",
      "https://www.indiatoday.in/magazine/up-front/story/20200106-upfront-1631596-2019-12-27\n",
      "https://www.indiatoday.in/magazine/the-big-story/story/20191230-division-bell-1629580-2019-12-23\n",
      "https://www.indiatoday.in/magazine/up-front/story/20191230-glasshouse-1630118-2019-12-23\n"
     ]
    }
   ],
   "source": [
    "articles = []\n",
    "for i in uniq:\n",
    "    url = i\n",
    "    r1 = requests.get(url)\n",
    "    coverpage = r1.content\n",
    "    soup1 = BeautifulSoup(coverpage, 'html5lib')\n",
    "    texts = []\n",
    "    ps = soup1.find_all('p')\n",
    "    for j in range(len(ps)):\n",
    "        if j< 2:\n",
    "            continue\n",
    "        if j > len(ps) - 20:\n",
    "            break    \n",
    "        if(ps[j].find('strong')):\n",
    "            continue\n",
    "        texts.append(ps[j].text)\n",
    "    d ={}\n",
    "    try:\n",
    "        d['link'] = url \n",
    "        d['text'] = \"\\n\".join(texts)\n",
    "        d['time'] = soup1.find('dt',class_='pubdata').text\n",
    "    except:\n",
    "        print(url)\n",
    "    articles.append(d)\n"
   ]
  },
  {
   "cell_type": "code",
   "execution_count": 86,
   "metadata": {},
   "outputs": [],
   "source": [
    "import pickle \n",
    "with open('india_today_nrc.pickle', 'wb') as handle:\n",
    "    pickle.dump(articles, handle)\n"
   ]
  },
  {
   "cell_type": "code",
   "execution_count": null,
   "metadata": {},
   "outputs": [],
   "source": []
  }
 ],
 "metadata": {
  "kernelspec": {
   "display_name": "Python 3",
   "language": "python",
   "name": "python3"
  },
  "language_info": {
   "codemirror_mode": {
    "name": "ipython",
    "version": 3
   },
   "file_extension": ".py",
   "mimetype": "text/x-python",
   "name": "python",
   "nbconvert_exporter": "python",
   "pygments_lexer": "ipython3",
   "version": "3.7.3"
  }
 },
 "nbformat": 4,
 "nbformat_minor": 4
}
