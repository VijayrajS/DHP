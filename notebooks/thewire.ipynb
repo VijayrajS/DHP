{
 "cells": [
  {
   "cell_type": "code",
   "execution_count": 29,
   "metadata": {},
   "outputs": [],
   "source": [
    "from selenium import webdriver\n",
    "from selenium.webdriver.chrome.options import Options\n",
    "import pandas as pd\n",
    "from selenium.webdriver.common.by import By\n",
    "from selenium.webdriver.support.ui import WebDriverWait\n",
    "from selenium.webdriver.support import expected_conditions as EC\n",
    "from selenium.webdriver.common.action_chains import ActionChains\n",
    "from selenium.webdriver.common.keys import Keys"
   ]
  },
  {
   "cell_type": "code",
   "execution_count": 30,
   "metadata": {},
   "outputs": [
    {
     "name": "stderr",
     "output_type": "stream",
     "text": [
      "/home/badwolf/anaconda3/lib/python3.7/site-packages/ipykernel_launcher.py:3: DeprecationWarning: use options instead of chrome_options\n",
      "  This is separate from the ipykernel package so we can avoid doing imports until\n"
     ]
    }
   ],
   "source": [
    "options = Options()\n",
    "options.binary_location = \"/bin/chromium\"\n",
    "driver = webdriver.Chrome(chrome_options=options, executable_path='/run/media/badwolf/Windows/Users/Urja Nadibail/acads/chromedriver')"
   ]
  },
  {
   "cell_type": "code",
   "execution_count": 31,
   "metadata": {},
   "outputs": [],
   "source": [
    "driver.get('https://thewire.in/search')"
   ]
  },
  {
   "cell_type": "code",
   "execution_count": 25,
   "metadata": {},
   "outputs": [],
   "source": [
    "c = driver.find_elements_by_class_name('card__title')\n"
   ]
  },
  {
   "cell_type": "code",
   "execution_count": 26,
   "metadata": {},
   "outputs": [
    {
     "data": {
      "text/plain": [
       "'https://thewire.in/world/methodical-madness-president-donald-trump'"
      ]
     },
     "execution_count": 26,
     "metadata": {},
     "output_type": "execute_result"
    }
   ],
   "source": [
    "c[0].find_element_by_tag_name('a').get_attribute('href')\n"
   ]
  },
  {
   "cell_type": "code",
   "execution_count": 32,
   "metadata": {},
   "outputs": [],
   "source": [
    "count = 0\n",
    "while count < 2500:\n",
    "    body = driver.find_element_by_css_selector('body')\n",
    "    body.send_keys(Keys.PAGE_DOWN)\n",
    "    count+=1\n"
   ]
  },
  {
   "cell_type": "code",
   "execution_count": 33,
   "metadata": {},
   "outputs": [],
   "source": [
    "c = driver.find_elements_by_class_name('card__title')\n",
    "article_links = []\n",
    "for i in c:\n",
    "    url = i.find_element_by_tag_name('a').get_attribute('href')\n",
    "    article_links.append(url)\n"
   ]
  },
  {
   "cell_type": "code",
   "execution_count": 35,
   "metadata": {},
   "outputs": [],
   "source": [
    "import requests\n",
    "from bs4 import BeautifulSoup\n",
    "url = article_links[0]\n",
    "r1 = requests.get(url)\n",
    "coverpage = r1.content\n",
    "soup1 = BeautifulSoup(coverpage, 'html5lib')"
   ]
  },
  {
   "cell_type": "code",
   "execution_count": 36,
   "metadata": {},
   "outputs": [
    {
     "name": "stdout",
     "output_type": "stream",
     "text": [
      "New Delhi: Opposition parties slammed the Central government and the BJP, blaming the actions of Union ministers and the saffron party’s ideology for the Jamia shooting incident.\n",
      "On Thursday, a man confronted people protesting against the Citizenship (Amendment) Act (CAA) near Jamia Milia Islamia and opened fire, injuring one student. He purportedly said, “Yeh lo azaadi (here, take your freedom)” and wrote “Shaheen Bagh, khel khatam (Shaheen Bagh is finished)” on his Facebook account before shooting the protesters.\n",
      "Opposition parties said the attack was a “direct result” of senior BJP functionaries, including Union minister Anurag Thakur, leading crowds to chant “shoot the traitors”, referring to those protesting against the CAA.\n",
      "The Congress, on Twitter, said: “What kind of police force is Amit Shah running? Delhi police is standing idly by as a man shoots at peaceful protestors. Is this what BJP leaders like MoS Finance, Anurag Thakur intended? Creating an armed militia of radicalised youth. #BJPkaGodseRaj.”\n",
      "Congress leader Priyanka Gandhi Vadra said on Friday that the attack was possible because the ruling party’s leaders were inciting people to shoot. She asked Prime Minister Narendra Modi to answer whether he condones violence.\n",
      "“When the BJP government, its ministers and party leaders incite people to shoot, give provocative speeches, then all this becomes possible. The prime minister should answer what kind of a Delhi he wants to build?” Priyanka Gandhi said in a tweet in Hindi.\n",
      "The shooter brandishes a gun outside the Jamia Millia Islamia university in New Delhi, India, January 30, 2020. His face has been blurred as reports have said he is a minor. Photo: Reuters/Danish Siddiqui\n",
      "“Does he stand with development or with anarchy?” the Congress general secretary asked.\n",
      "Meanwhile, the Aam Aadmi Party, which is in a direct contest with the BJP in Delhi’s assembly polls, accused the saffron party of wanting to create a “riot-like” situation in the city. The BJP wants to delay the polls, scheduled for February 8, because it can sense its defeat, AAP claimed.\n",
      "The party also demanded the resignation of Amit Shah, terming him the “most incompetent” Union home minister that the country has ever had. AAP also slammed the police for being a “mute spectator” to the firing incident.\n",
      "Chief minister Arvind Kejriwal said that Delhi’s law and order is “deteriorating”. “What is happening in Delhi? The law and order is deteriorating. Please take care of Delhi’s law and order,” Kejriwal said in reply to a tweet by Shah in which the home minister said he has directed Delhi police commissioner Amulya Patnaik to take strict action against the culprit.\n",
      "Also read: Jamia Shooter Has Right-Wing Links, Shared Photos of Weapons on Facebook\n",
      "AAP senior leader Sanjay Singh said the BJP “did such a disgusting act” on the Martyrdom Day of Gandhi. “The BJP and Shah are scared of losing the upcoming polls and they are trying to get the polls postponed through the act,” Singh told reporters.\n",
      "Senior AAP leader and national spokesperson Ajoy Kumar demanded Amit Shah’s resignation. “Keeping in mind the deteriorating law and order situation of Delhi we demand the immediate resignation of Home Minister Amit Shah. We also demand FIR against Mr Anurag Thakur under IPC 153 (provocation with intent to cause riot) and IPC 505 (intent to incite any class or community of persons to commit an offence),” said Kumar.\n",
      "Anurag Thakur. Photo: Facebook/official.anuragthakur\n",
      "Shooting is fallout of hate speeches: Left parties\n",
      "Left parties on Thursday said that the Jamia shooting is a fallout of hate speeches and inflammatory comments made by Union ministers and BJP leaders during campaigning for the February 8 Delhi assembly polls.\n",
      "“The hate-speech and call to violence by Union ministers and BJP leaders – along with the silence of the PM – has led to this shameful outcome. This is the kind of India this govt wants to create. #MartyrsDay,” CPI(M) general secretary Sitaram Yechury tweeted.\n",
      "CPI general secretary D. Raja said the incident is a “direct result” of the inflammatory comments made by BJP leaders. It is unfortunate that such an incident has taken place on the death anniversary of Mahatma Gandhi, he told news agency PTI.\n",
      "“BJP leader Anurag Thakur should be arrested for his comments urging crowds to raise the slogan ‘shoot the traitors’,” Raja said.\n",
      "Owaisi slams Delhi Police\n",
      "AIMIM chief Asaduddin Owaisi on Thursday hit out at the Delhi, saying they did not help the student who was injured by the Jamia shooter pass the barricades on his way to hospital.\n",
      "“@DelhiPolice What happened to the bravado that you showed in #Jamia last month?\n",
      "If there’s a prize for being helpless bystanders, you’d win it every time.\n",
      "Can you explain why a gunshot victim had to climb over a barricade? Do your service rules stop you from being humane,” the Hyderabad MP tweeted.\n",
      "The Twitter account of PDP president Mehbooba Mufti said the shooting incident “seems to have completed India’s transition from democracy to mobocracy”.\n",
      "“As we remember Gandhiji on the sombre occasion of his death anniversary, India’s transition from democracy to a mobocracy seems complete,” a tweet on Mehbooba’s Twitter handle read.\n",
      "Mehbooba’s daughter Iltija Mufti has been operating her mother’s Twitter handle since August 5, 2019, when the former J&K chief minister was detained after the Centre revoked the state’s special status.\n",
      "Not only Delhi Police stood while the the terrorist shot student, they did not let him cross the barricade to goto nearby holy family hospital. I won’t be surprised if the terrorist came in Delhi police vehicle pic.twitter.com/JYUdl35SCX\n",
      "— Abshar (@Scepticindian) January 30, 2020\n",
      "\n",
      "Have directed police to take strictest action: Shah\n",
      "Home minister Amit Shah on Thursday said he had directed Delhi police commissioner Amulya Patnaik to take the “strictest action” in the shooting incident. Hours later, Shah said the case will be investigated by special commissioner of Delhi police Praveer Ranjan.\n",
      "The home minister said the Central government “will not tolerate” such incidents and that the shooter “will not be spared”.\n",
      "Also read: Firing on Jamia Students: From Falsehood to Victim Blaming, Republic TV Spins a Yarn\n",
      "“I have spoken to the Delhi Police Commissioner on the incident of firing in Delhi and have directed him to take strictest action,” he said in a tweet. Shah said there will be serious action into the incident.\n",
      "Later, in another tweet, the home minister said the will be probed in its “entirety”.\n",
      "‘Shooting happened in split second’: Police commissioner\n",
      "The Delhi police, facing allegations of inaction, said the firing happened in a “matter of seconds” and by the time police could react, the shooter had fired his pistol.\n",
      "“By the time police could react, the person had already fired the shot. Everything happened in seconds. The investigation is on. The case has been transferred to the Crime Branch. We are also probing whether he is a juvenile or not,” special commissioner of police (intelligence) Praveer Ranjan said.\n",
      "However, videos and photos of the shooter show him casually and confidently walking towards a group of policemen. The policemen do not react to the shooter waving his weapon about and only took action after he had fired a shot. Eyewitnesses have also alleged that the police did not act against the shooter despite their pleas.\n",
      "Joint commissioner of police (southern range) Devesh Srivastava said based on the statement of the victim, a case of attempt to murder has been registered. Special commissioner of law and order (north) Satish Golcha met the injured student Shadab Farooq at the AIIMS trauma centre. “We met him. He is stable now. The bullet has been removed and he also spoke to the doctor,” Golcha said.\n",
      "(With PTI inputs)\n"
     ]
    }
   ],
   "source": [
    "ps = soup1.find('div',class_='grey-text').find_all('p')\n",
    "for i in ps:\n",
    "    print(i.text)"
   ]
  },
  {
   "cell_type": "code",
   "execution_count": 37,
   "metadata": {},
   "outputs": [],
   "source": [
    "time = soup1.find('span', class_='posted-on')"
   ]
  },
  {
   "cell_type": "code",
   "execution_count": 39,
   "metadata": {},
   "outputs": [
    {
     "data": {
      "text/plain": [
       "'48 minutes ago'"
      ]
     },
     "execution_count": 39,
     "metadata": {},
     "output_type": "execute_result"
    }
   ],
   "source": [
    "time.text"
   ]
  },
  {
   "cell_type": "code",
   "execution_count": 40,
   "metadata": {},
   "outputs": [
    {
     "ename": "AttributeError",
     "evalue": "'NoneType' object has no attribute 'find_all'",
     "output_type": "error",
     "traceback": [
      "\u001b[0;31m------------------------------\u001b[0m",
      "\u001b[0;31mAttributeError\u001b[0mTraceback (most recent call last)",
      "\u001b[0;32m<ipython-input-40-9905c4bfafde>\u001b[0m in \u001b[0;36m<module>\u001b[0;34m\u001b[0m\n\u001b[1;32m      6\u001b[0m     \u001b[0mcoverpage\u001b[0m \u001b[0;34m=\u001b[0m \u001b[0mr1\u001b[0m\u001b[0;34m.\u001b[0m\u001b[0mcontent\u001b[0m\u001b[0;34m\u001b[0m\u001b[0;34m\u001b[0m\u001b[0m\n\u001b[1;32m      7\u001b[0m     \u001b[0msoup1\u001b[0m \u001b[0;34m=\u001b[0m \u001b[0mBeautifulSoup\u001b[0m\u001b[0;34m(\u001b[0m\u001b[0mcoverpage\u001b[0m\u001b[0;34m,\u001b[0m \u001b[0;34m'html5lib'\u001b[0m\u001b[0;34m)\u001b[0m\u001b[0;34m\u001b[0m\u001b[0;34m\u001b[0m\u001b[0m\n\u001b[0;32m----> 8\u001b[0;31m     \u001b[0mps\u001b[0m \u001b[0;34m=\u001b[0m \u001b[0msoup1\u001b[0m\u001b[0;34m.\u001b[0m\u001b[0mfind\u001b[0m\u001b[0;34m(\u001b[0m\u001b[0;34m'div'\u001b[0m\u001b[0;34m,\u001b[0m\u001b[0mclass_\u001b[0m\u001b[0;34m=\u001b[0m\u001b[0;34m'grey-text'\u001b[0m\u001b[0;34m)\u001b[0m\u001b[0;34m.\u001b[0m\u001b[0mfind_all\u001b[0m\u001b[0;34m(\u001b[0m\u001b[0;34m'p'\u001b[0m\u001b[0;34m)\u001b[0m\u001b[0;34m\u001b[0m\u001b[0;34m\u001b[0m\u001b[0m\n\u001b[0m\u001b[1;32m      9\u001b[0m     \u001b[0mtexts\u001b[0m \u001b[0;34m=\u001b[0m \u001b[0;34m[\u001b[0m\u001b[0;34m]\u001b[0m\u001b[0;34m\u001b[0m\u001b[0;34m\u001b[0m\u001b[0m\n\u001b[1;32m     10\u001b[0m     \u001b[0;32mfor\u001b[0m \u001b[0mj\u001b[0m \u001b[0;32min\u001b[0m \u001b[0mps\u001b[0m\u001b[0;34m:\u001b[0m\u001b[0;34m\u001b[0m\u001b[0;34m\u001b[0m\u001b[0m\n",
      "\u001b[0;31mAttributeError\u001b[0m: 'NoneType' object has no attribute 'find_all'"
     ]
    }
   ],
   "source": [
    "articles = []\n",
    "for i in article_links:\n",
    "    d ={}\n",
    "    url = i\n",
    "    r1 = requests.get(url)\n",
    "    coverpage = r1.content\n",
    "    soup1 = BeautifulSoup(coverpage, 'html5lib')\n",
    "    ps = soup1.find('div',class_='grey-text').find_all('p')\n",
    "    texts = []\n",
    "    for j in ps:\n",
    "        texts.append(j.text)\n",
    "    time = soup1.find('span', class_='posted-on').text\n",
    "    try:\n",
    "        d['link'] = url\n",
    "        d['text'] = \"\\n\".join(texts)\n",
    "        d['time'] = time\n",
    "        articles.append(d)\n",
    "    except:\n",
    "        print(url)\n",
    "        "
   ]
  },
  {
   "cell_type": "code",
   "execution_count": 41,
   "metadata": {},
   "outputs": [],
   "source": [
    "import pickle \n",
    "with open('the_wire_caa.pickle', 'wb') as handle:\n",
    "    pickle.dump(articles, handle)\n",
    "\n"
   ]
  },
  {
   "cell_type": "code",
   "execution_count": 43,
   "metadata": {},
   "outputs": [
    {
     "data": {
      "text/plain": [
       "759"
      ]
     },
     "execution_count": 43,
     "metadata": {},
     "output_type": "execute_result"
    }
   ],
   "source": [
    "len(articles)"
   ]
  },
  {
   "cell_type": "code",
   "execution_count": null,
   "metadata": {},
   "outputs": [],
   "source": []
  }
 ],
 "metadata": {
  "kernelspec": {
   "display_name": "Python 3",
   "language": "python",
   "name": "python3"
  },
  "language_info": {
   "codemirror_mode": {
    "name": "ipython",
    "version": 3
   },
   "file_extension": ".py",
   "mimetype": "text/x-python",
   "name": "python",
   "nbconvert_exporter": "python",
   "pygments_lexer": "ipython3",
   "version": "3.7.3"
  }
 },
 "nbformat": 4,
 "nbformat_minor": 4
}
