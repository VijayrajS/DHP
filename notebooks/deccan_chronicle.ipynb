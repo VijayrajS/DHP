{
 "cells": [
  {
   "cell_type": "code",
   "execution_count": 1,
   "metadata": {},
   "outputs": [],
   "source": [
    "import requests\n",
    "from bs4 import BeautifulSoup\n",
    "url = \"https://www.deccanchronicle.com/content/tags/caa\"\n",
    "r1 = requests.get(url)\n",
    "coverpage = r1.content\n",
    "soup1 = BeautifulSoup(coverpage, 'html5lib')"
   ]
  },
  {
   "cell_type": "code",
   "execution_count": 2,
   "metadata": {},
   "outputs": [],
   "source": []
  },
  {
   "cell_type": "code",
   "execution_count": 44,
   "metadata": {},
   "outputs": [
    {
     "name": "stdout",
     "output_type": "stream",
     "text": [
      "1\n",
      "2\n",
      "3\n",
      "4\n",
      "5\n",
      "6\n",
      "7\n",
      "8\n",
      "9\n",
      "10\n",
      "11\n",
      "12\n",
      "13\n",
      "14\n",
      "15\n",
      "16\n",
      "17\n",
      "18\n",
      "19\n"
     ]
    }
   ],
   "source": [
    "counter = 1\n",
    "article_links = []\n",
    "while counter<20:\n",
    "    print(counter)\n",
    "    url = \"https://www.deccanchronicle.com/content/tags/cab?pg=\" + str(counter)\n",
    "    r1 = requests.get(url)\n",
    "    coverpage = r1.content\n",
    "    soup1 = BeautifulSoup(coverpage, 'html5lib')\n",
    "    x = soup1.find_all('div',class_=\"col-sm-12 SunChNewListing\")\n",
    "    \n",
    "    for i in x:\n",
    "        x = i.find('a')['href']\n",
    "        article_links.append(x)\n",
    "    counter+=1\n",
    "    "
   ]
  },
  {
   "cell_type": "code",
   "execution_count": 46,
   "metadata": {},
   "outputs": [
    {
     "data": {
      "text/plain": [
       "36"
      ]
     },
     "execution_count": 46,
     "metadata": {},
     "output_type": "execute_result"
    }
   ],
   "source": [
    "uniq = []\n",
    "for i in article_links:\n",
    "    if i not in uniq:\n",
    "        uniq.append(i)\n",
    "len(uniq)"
   ]
  },
  {
   "cell_type": "code",
   "execution_count": 47,
   "metadata": {},
   "outputs": [
    {
     "name": "stdout",
     "output_type": "stream",
     "text": [
      "Dec 18, 2019, 1:30 pm ISTUpdated  Dec 18, 2019, 1:30 pm IST\n"
     ]
    }
   ],
   "source": [
    "base = 'https://www.deccanchronicle.com'\n",
    "url = base + uniq[0]\n",
    "r1 = requests.get(url)\n",
    "coverpage = r1.content\n",
    "soup1 = BeautifulSoup(coverpage, 'html5lib')\n",
    "x = soup1.find('div' , class_='story-body')\n",
    "ps = x.find_all('p')\n",
    "texts = []\n",
    "for j in ps:\n",
    "    texts.append(j.text)\n",
    "x = soup1.find('div',class_='pubStamp')\n",
    "dels = x.find('span').text\n",
    "totes = x.text\n",
    "fin_date = totes[len(dels):]\n",
    "print(fin_date)\n",
    "d = {}\n",
    "d['link'] = url\n",
    "d['text'] = \"\\n\".join(texts)\n",
    "d['date'] = fin_date"
   ]
  },
  {
   "cell_type": "code",
   "execution_count": 48,
   "metadata": {},
   "outputs": [],
   "source": [
    "\n",
    "articles = []\n",
    "for i in uniq:\n",
    "    base = 'https://www.deccanchronicle.com'\n",
    "    url = base + i\n",
    "    r1 = requests.get(url)\n",
    "    coverpage = r1.content\n",
    "    soup1 = BeautifulSoup(coverpage, 'html5lib')\n",
    "    x = soup1.find('div' , class_='story-body')\n",
    "    ps = x.find_all('p')\n",
    "    texts = []\n",
    "    for j in ps:\n",
    "        texts.append(j.text)\n",
    "    x = soup1.find('div',class_='pubStamp')\n",
    "    dels = x.find('span').text\n",
    "    totes = x.text\n",
    "    fin_date = totes[len(dels):]\n",
    "    d = {}\n",
    "    try:\n",
    "        d['link'] = url\n",
    "        d['text'] = \"\\n\".join(texts)\n",
    "        d['date'] = fin_date\n",
    "        articles.append(d)\n",
    "        \n",
    "    except:\n",
    "        print(url)\n"
   ]
  },
  {
   "cell_type": "code",
   "execution_count": 49,
   "metadata": {},
   "outputs": [],
   "source": [
    "import pickle \n",
    "with open('deccan_chronicle_cab.pickle', 'wb') as handle:\n",
    "    pickle.dump(articles, handle)\n"
   ]
  },
  {
   "cell_type": "code",
   "execution_count": null,
   "metadata": {},
   "outputs": [],
   "source": []
  }
 ],
 "metadata": {
  "kernelspec": {
   "display_name": "Python 3",
   "language": "python",
   "name": "python3"
  },
  "language_info": {
   "codemirror_mode": {
    "name": "ipython",
    "version": 3
   },
   "file_extension": ".py",
   "mimetype": "text/x-python",
   "name": "python",
   "nbconvert_exporter": "python",
   "pygments_lexer": "ipython3",
   "version": "3.7.3"
  }
 },
 "nbformat": 4,
 "nbformat_minor": 4
}
