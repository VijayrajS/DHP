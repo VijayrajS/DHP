{
 "cells": [
  {
   "cell_type": "code",
   "execution_count": 1,
   "metadata": {},
   "outputs": [],
   "source": [
    "import requests\n",
    "from bs4 import BeautifulSoup\n",
    "url = \"https://www.latestly.com/topic/caa/page/26/\"\n",
    "r1 = requests.get(url)\n",
    "coverpage = r1.content\n",
    "soup1 = BeautifulSoup(coverpage, 'html5lib')"
   ]
  },
  {
   "cell_type": "code",
   "execution_count": 7,
   "metadata": {},
   "outputs": [],
   "source": [
    "x = soup1.find('div',class_=\"widget_content\").find_all('div',class_='col-sm-3')"
   ]
  },
  {
   "cell_type": "code",
   "execution_count": 11,
   "metadata": {},
   "outputs": [
    {
     "data": {
      "text/plain": [
       "'https://www.latestly.com/agency-news/internet-services-suspended-in-meerut-till-monday-noon-1406114.html'"
      ]
     },
     "execution_count": 11,
     "metadata": {},
     "output_type": "execute_result"
    }
   ],
   "source": [
    "x[0].find('a')['href']"
   ]
  },
  {
   "cell_type": "code",
   "execution_count": 12,
   "metadata": {},
   "outputs": [
    {
     "name": "stdout",
     "output_type": "stream",
     "text": [
      "1\n",
      "2\n",
      "3\n",
      "4\n",
      "5\n",
      "6\n",
      "7\n",
      "8\n",
      "9\n",
      "10\n",
      "11\n",
      "12\n",
      "13\n",
      "14\n",
      "15\n",
      "16\n",
      "17\n",
      "18\n",
      "19\n",
      "20\n",
      "21\n",
      "22\n",
      "23\n",
      "24\n",
      "25\n",
      "26\n",
      "27\n",
      "28\n"
     ]
    },
    {
     "ename": "AttributeError",
     "evalue": "'NoneType' object has no attribute 'find_all'",
     "output_type": "error",
     "traceback": [
      "\u001b[0;31m-------------------------------------------------------------\u001b[0m",
      "\u001b[0;31mAttributeError\u001b[0m              Traceback (most recent call last)",
      "\u001b[0;32m<ipython-input-12-ab5b307c776a>\u001b[0m in \u001b[0;36m<module>\u001b[0;34m\u001b[0m\n\u001b[1;32m      7\u001b[0m     \u001b[0mcoverpage\u001b[0m \u001b[0;34m=\u001b[0m \u001b[0mr1\u001b[0m\u001b[0;34m.\u001b[0m\u001b[0mcontent\u001b[0m\u001b[0;34m\u001b[0m\u001b[0;34m\u001b[0m\u001b[0m\n\u001b[1;32m      8\u001b[0m     \u001b[0msoup1\u001b[0m \u001b[0;34m=\u001b[0m \u001b[0mBeautifulSoup\u001b[0m\u001b[0;34m(\u001b[0m\u001b[0mcoverpage\u001b[0m\u001b[0;34m,\u001b[0m \u001b[0;34m'html5lib'\u001b[0m\u001b[0;34m)\u001b[0m\u001b[0;34m\u001b[0m\u001b[0;34m\u001b[0m\u001b[0m\n\u001b[0;32m----> 9\u001b[0;31m     \u001b[0mnews_items\u001b[0m \u001b[0;34m=\u001b[0m \u001b[0msoup1\u001b[0m\u001b[0;34m.\u001b[0m\u001b[0mfind\u001b[0m\u001b[0;34m(\u001b[0m\u001b[0;34m'div'\u001b[0m\u001b[0;34m,\u001b[0m\u001b[0mclass_\u001b[0m\u001b[0;34m=\u001b[0m\u001b[0;34m\"widget_content\"\u001b[0m\u001b[0;34m)\u001b[0m\u001b[0;34m.\u001b[0m\u001b[0mfind_all\u001b[0m\u001b[0;34m(\u001b[0m\u001b[0;34m'div'\u001b[0m\u001b[0;34m,\u001b[0m\u001b[0mclass_\u001b[0m\u001b[0;34m=\u001b[0m\u001b[0;34m'col-sm-3'\u001b[0m\u001b[0;34m)\u001b[0m\u001b[0;34m\u001b[0m\u001b[0;34m\u001b[0m\u001b[0m\n\u001b[0m\u001b[1;32m     10\u001b[0m \u001b[0;34m\u001b[0m\u001b[0m\n\u001b[1;32m     11\u001b[0m     \u001b[0;32mfor\u001b[0m \u001b[0mi\u001b[0m \u001b[0;32min\u001b[0m \u001b[0mnews_items\u001b[0m\u001b[0;34m:\u001b[0m\u001b[0;34m\u001b[0m\u001b[0;34m\u001b[0m\u001b[0m\n",
      "\u001b[0;31mAttributeError\u001b[0m: 'NoneType' object has no attribute 'find_all'"
     ]
    }
   ],
   "source": [
    "counter = 1\n",
    "article_links = []\n",
    "while counter<30:\n",
    "    print(counter)\n",
    "    url =  \"https://www.latestly.com/topic/caa/page/\" + str(counter)\n",
    "    r1 = requests.get(url)\n",
    "    coverpage = r1.content\n",
    "    soup1 = BeautifulSoup(coverpage, 'html5lib')\n",
    "    news_items = soup1.find('div',class_=\"widget_content\").find_all('div',class_='col-sm-3')\n",
    "    \n",
    "    for i in news_items:\n",
    "        y = i.find('a')['href']\n",
    "        article_links.append(y)\n",
    "    counter+=1\n",
    "    "
   ]
  },
  {
   "cell_type": "code",
   "execution_count": 16,
   "metadata": {},
   "outputs": [],
   "source": [
    "articles = []\n",
    "for j in article_links:\n",
    "    url = j\n",
    "    r1 = requests.get(url)\n",
    "    coverpage = r1.content\n",
    "    soup1 = BeautifulSoup(coverpage, 'html5lib')\n",
    "    url = j\n",
    "    \n",
    "    try:\n",
    "      \n",
    "        a = soup1.find('div',class_='article-body')\n",
    "        ps = a.find_all('p')\n",
    "        texts = []\n",
    "        for i in ps:\n",
    "            texts.append(i.text)\n",
    "        date = soup1.find('span', class_='article_date').text\n",
    "        d ={}\n",
    "\n",
    "        d['date'] = date\n",
    "        d['link'] = url\n",
    "        d['text'] = \"\\n\".join(texts)\n",
    "        articles.append(d)\n",
    "    except:\n",
    "        print(url)\n",
    "        \n",
    "\n"
   ]
  },
  {
   "cell_type": "code",
   "execution_count": 15,
   "metadata": {},
   "outputs": [
    {
     "data": {
      "text/plain": [
       "{'date': 'Feb 03, 2020 10:10 AM IST',\n",
       " 'link': 'https://www.latestly.com/india/news/anti-caa-nrc-stir-show-copy-of-constitution-if-anybody-asks-for-documents-maharashtra-minister-jitendra-awhad-tells-protesters-1512421.html',\n",
       " 'text': 'Mumbai, February 3: Terming the Citizenship Amendment Act as a tool to divide society on communal lines, Maharashtra Minister Jitendra Awhad told anti-CAC and NRC protesters to show copy of the Indian Constitution if anybody asks for documents. Jitendra Awhad, a senior leader of the Nationalist Congress Party (NCP), made remarks while addressing a rally against the CAA and\\xa0the National Register of Citizens (NRC) in Kalyan on Saturday.\\xa0\\'When Your Father Was Bootlicking Britishers...\\': Jitendra Awhad Hits Out at Modi Government Over CAA and NRC.\\n\\nAwhad addressed a crowd of over 5,000 people who gathered at Kalyan\\'s KDMC ground to protest against CAA and NRC. He told protesters to keep a copy of the Constitution of India at their homes and if anybody comes to check their documents\\xa0they should be shown that copy.\\xa0A\\xa0Shaheen Bagh-type protest against CAA and NRC is also held at Govindwadi in Kalyan where around 400 people have staged an indefinite dharna.\\xa0Why Citizenship Amendment Act+NRC Raise Fear And Concerns: A Multi-Dimensional Take.\\n\\n\"I have sent a message to Delhi to rename Shaheen Bagh as Kasturba Bagh as we all are the children of Mahatma Gandhi and Kasturba. Therefore, we will continue protesting in peace even if we have to get hit by lathis or bullets. Even if they throw stones at us, we will make a Taj Mahal out of it, but won’t opt to violence,\" Awhad was quoted as saying. The Minister also accused the Modi government of splitting the country through CAA and NRC.\\n\\n\"They thought that they would pack off the Muslims in Assam by introducing the NRC, but it did not work when the Muslims were in small numbers. However, it has sparked a battle between the Assamese and the Bengalis who are blaming each other for the problems,\" Awhad said. He also mentioned incidents of firing near Shaheen Bagh and Jamia Millia Islamia University, saying: \"Nathuram Godse will try to kill Mahatma Gandhi but many more Gandhis will be born.\"'}"
      ]
     },
     "execution_count": 15,
     "metadata": {},
     "output_type": "execute_result"
    }
   ],
   "source": [
    "articles[0]"
   ]
  },
  {
   "cell_type": "code",
   "execution_count": 17,
   "metadata": {},
   "outputs": [],
   "source": [
    "import pickle \n",
    "with open('latestly_caa.pickle', 'wb') as handle:\n",
    "    pickle.dump(articles, handle)\n"
   ]
  },
  {
   "cell_type": "code",
   "execution_count": null,
   "metadata": {},
   "outputs": [],
   "source": []
  }
 ],
 "metadata": {
  "kernelspec": {
   "display_name": "Python 3",
   "language": "python",
   "name": "python3"
  },
  "language_info": {
   "codemirror_mode": {
    "name": "ipython",
    "version": 3
   },
   "file_extension": ".py",
   "mimetype": "text/x-python",
   "name": "python",
   "nbconvert_exporter": "python",
   "pygments_lexer": "ipython3",
   "version": "3.7.3"
  }
 },
 "nbformat": 4,
 "nbformat_minor": 4
}
