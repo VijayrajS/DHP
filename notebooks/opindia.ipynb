{
 "cells": [
  {
   "cell_type": "code",
   "execution_count": 2,
   "metadata": {},
   "outputs": [],
   "source": [
    "import requests\n",
    "from bs4 import BeautifulSoup\n",
    "url = \"https://www.opindia.com/?s=CAA\"\n",
    "r1 = requests.get(url)\n",
    "coverpage = r1.content\n",
    "soup1 = BeautifulSoup(coverpage, 'html5lib')"
   ]
  },
  {
   "cell_type": "code",
   "execution_count": 3,
   "metadata": {},
   "outputs": [
    {
     "data": {
      "text/plain": [
       "'2020-02-04T14:51:57+00:00'"
      ]
     },
     "execution_count": 3,
     "metadata": {},
     "output_type": "execute_result"
    }
   ],
   "source": [
    "article_links = []\n",
    "news_items = soup1.find_all('div', class_='td_module_16')\n",
    "x = news_items[0]\n",
    "x.find('a')['href']\n",
    "x.find('a')['title']\n",
    "x.find('time')['datetime']"
   ]
  },
  {
   "cell_type": "code",
   "execution_count": 4,
   "metadata": {},
   "outputs": [
    {
     "name": "stdout",
     "output_type": "stream",
     "text": [
      "1\n",
      "2\n",
      "3\n",
      "4\n",
      "5\n",
      "6\n",
      "7\n",
      "8\n",
      "9\n",
      "10\n",
      "11\n",
      "12\n",
      "13\n",
      "14\n",
      "15\n",
      "16\n",
      "17\n",
      "18\n",
      "19\n",
      "20\n",
      "21\n",
      "22\n",
      "23\n",
      "24\n",
      "25\n",
      "26\n",
      "27\n",
      "28\n",
      "29\n"
     ]
    }
   ],
   "source": [
    "count = 1\n",
    "article_links = []\n",
    "while count<30:\n",
    "    print(count)\n",
    "    url = \"https://www.opindia.com/page/\" +str(count) + \"/?s=CAA\" \n",
    "    r1 = requests.get(url)\n",
    "    coverpage = r1.content\n",
    "    soup1 = BeautifulSoup(coverpage, 'html5lib')\n",
    "    news_items = soup1.find_all('div', class_='td_module_16')\n",
    "    for i in news_items:\n",
    "        d ={}\n",
    "        d['link'] = i.find('a')['href']\n",
    "        d['title'] = i.find('a')['title']\n",
    "        d['time'] = i.find('time')['datetime']\n",
    "        article_links.append(d)\n",
    "    count+=1\n",
    "    "
   ]
  },
  {
   "cell_type": "code",
   "execution_count": 5,
   "metadata": {},
   "outputs": [],
   "source": [
    "uniq = []\n",
    "for i in article_links:\n",
    "    if i not in uniq:\n",
    "        uniq.append(i)"
   ]
  },
  {
   "cell_type": "code",
   "execution_count": 39,
   "metadata": {},
   "outputs": [],
   "source": [
    "from tqdm import tqdm\n",
    "articles = []\n",
    "failed = []"
   ]
  },
  {
   "cell_type": "code",
   "execution_count": 40,
   "metadata": {},
   "outputs": [
    {
     "data": {
      "text/plain": [
       "{'link': 'https://www.opindia.com/2020/01/rss-backs-modi-government-on-caa/',\n",
       " 'title': 'RSS backs PM Modi on historic CAA, says anti-CAA riots do not represent sentiments of majority of Indians',\n",
       " 'time': '2020-01-12T09:43:27+00:00'}"
      ]
     },
     "execution_count": 40,
     "metadata": {},
     "output_type": "execute_result"
    }
   ],
   "source": [
    "uniq[0]"
   ]
  },
  {
   "cell_type": "code",
   "execution_count": 79,
   "metadata": {},
   "outputs": [],
   "source": [
    "url = uniq[0]['link']\n",
    "r1 = requests.get(url)\n",
    "coverage = r1.content    \n",
    "soup1 = BeautifulSoup(coverpage)\n"
   ]
  },
  {
   "cell_type": "code",
   "execution_count": null,
   "metadata": {},
   "outputs": [],
   "source": []
  },
  {
   "cell_type": "code",
   "execution_count": 6,
   "metadata": {},
   "outputs": [],
   "source": [
    "from selenium import webdriver\n",
    "from selenium.webdriver.chrome.options import Options\n",
    "import pandas as pd"
   ]
  },
  {
   "cell_type": "code",
   "execution_count": 7,
   "metadata": {},
   "outputs": [],
   "source": [
    "from selenium.webdriver.common.desired_capabilities import DesiredCapabilities\n",
    "\n",
    "options = Options()\n",
    "options.binary_location = \"/bin/chromium\"\n",
    "\n",
    "\n",
    "caps = DesiredCapabilities().CHROME\n",
    "# caps[\"pageLoadStrategy\"] = \"normal\"  #  complete\n",
    "# caps[\"pageLoadStrategy\"] = \"eager\"  #  interactive\n",
    "caps[\"pageLoadStrategy\"] = \"none\"\n",
    "\n",
    "driver = webdriver.Chrome(desired_capabilities=caps, options=options, executable_path='/run/media/badwolf/Windows/Users/Urja Nadibail/acads/chromedriver')\n"
   ]
  },
  {
   "cell_type": "code",
   "execution_count": 8,
   "metadata": {},
   "outputs": [
    {
     "ename": "StaleElementReferenceException",
     "evalue": "Message: stale element reference: element is not attached to the page document\n  (Session info: chrome=79.0.3945.88)\n",
     "output_type": "error",
     "traceback": [
      "\u001b[0;31m-------------------------------------------------------------\u001b[0m",
      "\u001b[0;31mStaleElementReferenceException\u001b[0mTraceback (most recent call last)",
      "\u001b[0;32m<ipython-input-8-6ce66c7525e1>\u001b[0m in \u001b[0;36m<module>\u001b[0;34m\u001b[0m\n\u001b[1;32m     17\u001b[0m     \u001b[0mc\u001b[0m\u001b[0;34m=\u001b[0m \u001b[0mdriver\u001b[0m\u001b[0;34m.\u001b[0m\u001b[0mfind_elements_by_class_name\u001b[0m\u001b[0;34m(\u001b[0m\u001b[0;34m'tdb-block-inner'\u001b[0m\u001b[0;34m)\u001b[0m\u001b[0;34m\u001b[0m\u001b[0;34m\u001b[0m\u001b[0m\n\u001b[1;32m     18\u001b[0m     \u001b[0;32mfor\u001b[0m \u001b[0mj\u001b[0m \u001b[0;32min\u001b[0m \u001b[0mc\u001b[0m\u001b[0;34m:\u001b[0m\u001b[0;34m\u001b[0m\u001b[0;34m\u001b[0m\u001b[0m\n\u001b[0;32m---> 19\u001b[0;31m         \u001b[0mtexts\u001b[0m\u001b[0;34m.\u001b[0m\u001b[0mappend\u001b[0m\u001b[0;34m(\u001b[0m\u001b[0mj\u001b[0m\u001b[0;34m.\u001b[0m\u001b[0mtext\u001b[0m\u001b[0;34m)\u001b[0m\u001b[0;34m\u001b[0m\u001b[0;34m\u001b[0m\u001b[0m\n\u001b[0m\u001b[1;32m     20\u001b[0m     \u001b[0mtc\u001b[0m \u001b[0;34m=\u001b[0m \u001b[0;36m0\u001b[0m\u001b[0;34m\u001b[0m\u001b[0;34m\u001b[0m\u001b[0m\n\u001b[1;32m     21\u001b[0m     \u001b[0;32mwhile\u001b[0m\u001b[0;34m(\u001b[0m\u001b[0mtexts\u001b[0m\u001b[0;34m==\u001b[0m\u001b[0;34m[\u001b[0m\u001b[0;34m]\u001b[0m\u001b[0;34m)\u001b[0m\u001b[0;34m:\u001b[0m\u001b[0;34m\u001b[0m\u001b[0;34m\u001b[0m\u001b[0m\n",
      "\u001b[0;32m~/anaconda3/lib/python3.7/site-packages/selenium/webdriver/remote/webelement.py\u001b[0m in \u001b[0;36mtext\u001b[0;34m(self)\u001b[0m\n\u001b[1;32m     74\u001b[0m     \u001b[0;32mdef\u001b[0m \u001b[0mtext\u001b[0m\u001b[0;34m(\u001b[0m\u001b[0mself\u001b[0m\u001b[0;34m)\u001b[0m\u001b[0;34m:\u001b[0m\u001b[0;34m\u001b[0m\u001b[0;34m\u001b[0m\u001b[0m\n\u001b[1;32m     75\u001b[0m         \u001b[0;34m\"\"\"The text of the element.\"\"\"\u001b[0m\u001b[0;34m\u001b[0m\u001b[0;34m\u001b[0m\u001b[0m\n\u001b[0;32m---> 76\u001b[0;31m         \u001b[0;32mreturn\u001b[0m \u001b[0mself\u001b[0m\u001b[0;34m.\u001b[0m\u001b[0m_execute\u001b[0m\u001b[0;34m(\u001b[0m\u001b[0mCommand\u001b[0m\u001b[0;34m.\u001b[0m\u001b[0mGET_ELEMENT_TEXT\u001b[0m\u001b[0;34m)\u001b[0m\u001b[0;34m[\u001b[0m\u001b[0;34m'value'\u001b[0m\u001b[0;34m]\u001b[0m\u001b[0;34m\u001b[0m\u001b[0;34m\u001b[0m\u001b[0m\n\u001b[0m\u001b[1;32m     77\u001b[0m \u001b[0;34m\u001b[0m\u001b[0m\n\u001b[1;32m     78\u001b[0m     \u001b[0;32mdef\u001b[0m \u001b[0mclick\u001b[0m\u001b[0;34m(\u001b[0m\u001b[0mself\u001b[0m\u001b[0;34m)\u001b[0m\u001b[0;34m:\u001b[0m\u001b[0;34m\u001b[0m\u001b[0;34m\u001b[0m\u001b[0m\n",
      "\u001b[0;32m~/anaconda3/lib/python3.7/site-packages/selenium/webdriver/remote/webelement.py\u001b[0m in \u001b[0;36m_execute\u001b[0;34m(self, command, params)\u001b[0m\n\u001b[1;32m    631\u001b[0m             \u001b[0mparams\u001b[0m \u001b[0;34m=\u001b[0m \u001b[0;34m{\u001b[0m\u001b[0;34m}\u001b[0m\u001b[0;34m\u001b[0m\u001b[0;34m\u001b[0m\u001b[0m\n\u001b[1;32m    632\u001b[0m         \u001b[0mparams\u001b[0m\u001b[0;34m[\u001b[0m\u001b[0;34m'id'\u001b[0m\u001b[0;34m]\u001b[0m \u001b[0;34m=\u001b[0m \u001b[0mself\u001b[0m\u001b[0;34m.\u001b[0m\u001b[0m_id\u001b[0m\u001b[0;34m\u001b[0m\u001b[0;34m\u001b[0m\u001b[0m\n\u001b[0;32m--> 633\u001b[0;31m         \u001b[0;32mreturn\u001b[0m \u001b[0mself\u001b[0m\u001b[0;34m.\u001b[0m\u001b[0m_parent\u001b[0m\u001b[0;34m.\u001b[0m\u001b[0mexecute\u001b[0m\u001b[0;34m(\u001b[0m\u001b[0mcommand\u001b[0m\u001b[0;34m,\u001b[0m \u001b[0mparams\u001b[0m\u001b[0;34m)\u001b[0m\u001b[0;34m\u001b[0m\u001b[0;34m\u001b[0m\u001b[0m\n\u001b[0m\u001b[1;32m    634\u001b[0m \u001b[0;34m\u001b[0m\u001b[0m\n\u001b[1;32m    635\u001b[0m     \u001b[0;32mdef\u001b[0m \u001b[0mfind_element\u001b[0m\u001b[0;34m(\u001b[0m\u001b[0mself\u001b[0m\u001b[0;34m,\u001b[0m \u001b[0mby\u001b[0m\u001b[0;34m=\u001b[0m\u001b[0mBy\u001b[0m\u001b[0;34m.\u001b[0m\u001b[0mID\u001b[0m\u001b[0;34m,\u001b[0m \u001b[0mvalue\u001b[0m\u001b[0;34m=\u001b[0m\u001b[0;32mNone\u001b[0m\u001b[0;34m)\u001b[0m\u001b[0;34m:\u001b[0m\u001b[0;34m\u001b[0m\u001b[0;34m\u001b[0m\u001b[0m\n",
      "\u001b[0;32m~/anaconda3/lib/python3.7/site-packages/selenium/webdriver/remote/webdriver.py\u001b[0m in \u001b[0;36mexecute\u001b[0;34m(self, driver_command, params)\u001b[0m\n\u001b[1;32m    319\u001b[0m         \u001b[0mresponse\u001b[0m \u001b[0;34m=\u001b[0m \u001b[0mself\u001b[0m\u001b[0;34m.\u001b[0m\u001b[0mcommand_executor\u001b[0m\u001b[0;34m.\u001b[0m\u001b[0mexecute\u001b[0m\u001b[0;34m(\u001b[0m\u001b[0mdriver_command\u001b[0m\u001b[0;34m,\u001b[0m \u001b[0mparams\u001b[0m\u001b[0;34m)\u001b[0m\u001b[0;34m\u001b[0m\u001b[0;34m\u001b[0m\u001b[0m\n\u001b[1;32m    320\u001b[0m         \u001b[0;32mif\u001b[0m \u001b[0mresponse\u001b[0m\u001b[0;34m:\u001b[0m\u001b[0;34m\u001b[0m\u001b[0;34m\u001b[0m\u001b[0m\n\u001b[0;32m--> 321\u001b[0;31m             \u001b[0mself\u001b[0m\u001b[0;34m.\u001b[0m\u001b[0merror_handler\u001b[0m\u001b[0;34m.\u001b[0m\u001b[0mcheck_response\u001b[0m\u001b[0;34m(\u001b[0m\u001b[0mresponse\u001b[0m\u001b[0;34m)\u001b[0m\u001b[0;34m\u001b[0m\u001b[0;34m\u001b[0m\u001b[0m\n\u001b[0m\u001b[1;32m    322\u001b[0m             response['value'] = self._unwrap_value(\n\u001b[1;32m    323\u001b[0m                 response.get('value', None))\n",
      "\u001b[0;32m~/anaconda3/lib/python3.7/site-packages/selenium/webdriver/remote/errorhandler.py\u001b[0m in \u001b[0;36mcheck_response\u001b[0;34m(self, response)\u001b[0m\n\u001b[1;32m    240\u001b[0m                 \u001b[0malert_text\u001b[0m \u001b[0;34m=\u001b[0m \u001b[0mvalue\u001b[0m\u001b[0;34m[\u001b[0m\u001b[0;34m'alert'\u001b[0m\u001b[0;34m]\u001b[0m\u001b[0;34m.\u001b[0m\u001b[0mget\u001b[0m\u001b[0;34m(\u001b[0m\u001b[0;34m'text'\u001b[0m\u001b[0;34m)\u001b[0m\u001b[0;34m\u001b[0m\u001b[0;34m\u001b[0m\u001b[0m\n\u001b[1;32m    241\u001b[0m             \u001b[0;32mraise\u001b[0m \u001b[0mexception_class\u001b[0m\u001b[0;34m(\u001b[0m\u001b[0mmessage\u001b[0m\u001b[0;34m,\u001b[0m \u001b[0mscreen\u001b[0m\u001b[0;34m,\u001b[0m \u001b[0mstacktrace\u001b[0m\u001b[0;34m,\u001b[0m \u001b[0malert_text\u001b[0m\u001b[0;34m)\u001b[0m\u001b[0;34m\u001b[0m\u001b[0;34m\u001b[0m\u001b[0m\n\u001b[0;32m--> 242\u001b[0;31m         \u001b[0;32mraise\u001b[0m \u001b[0mexception_class\u001b[0m\u001b[0;34m(\u001b[0m\u001b[0mmessage\u001b[0m\u001b[0;34m,\u001b[0m \u001b[0mscreen\u001b[0m\u001b[0;34m,\u001b[0m \u001b[0mstacktrace\u001b[0m\u001b[0;34m)\u001b[0m\u001b[0;34m\u001b[0m\u001b[0;34m\u001b[0m\u001b[0m\n\u001b[0m\u001b[1;32m    243\u001b[0m \u001b[0;34m\u001b[0m\u001b[0m\n\u001b[1;32m    244\u001b[0m     \u001b[0;32mdef\u001b[0m \u001b[0m_value_or_default\u001b[0m\u001b[0;34m(\u001b[0m\u001b[0mself\u001b[0m\u001b[0;34m,\u001b[0m \u001b[0mobj\u001b[0m\u001b[0;34m,\u001b[0m \u001b[0mkey\u001b[0m\u001b[0;34m,\u001b[0m \u001b[0mdefault\u001b[0m\u001b[0;34m)\u001b[0m\u001b[0;34m:\u001b[0m\u001b[0;34m\u001b[0m\u001b[0;34m\u001b[0m\u001b[0m\n",
      "\u001b[0;31mStaleElementReferenceException\u001b[0m: Message: stale element reference: element is not attached to the page document\n  (Session info: chrome=79.0.3945.88)\n"
     ]
    }
   ],
   "source": [
    "arcs = []\n",
    "fail = []\n",
    "from time import sleep\n",
    "count = 1\n",
    "for i in uniq:\n",
    "    if count%10==0 and count>0:\n",
    "        print(count)\n",
    "        print(\"Lenght:\",len(arcs[count-1]['text']))\n",
    "        \n",
    "    d = {}\n",
    "    d['url'] = i['link']\n",
    "    d['title'] = i['title']\n",
    "    d['time'] = i['time']\n",
    "    texts = []\n",
    "    driver.get(i['link']+'#')\n",
    "    sleep(2)\n",
    "    c= driver.find_elements_by_class_name('tdb-block-inner')\n",
    "    for j in c:\n",
    "        texts.append(j.text)\n",
    "    tc = 0\n",
    "    while(texts==[]):\n",
    "        c= driver.find_elements_by_class_name('tdb-block-inner')\n",
    "        for j in c:\n",
    "            texts.append(j.text)\n",
    "        tc+=1 \n",
    "        if tc > 12:\n",
    "            fail.append(count)\n",
    "            break\n",
    "            \n",
    "    d['text'] = texts\n",
    "    arcs.append(d)\n",
    "    count+=1\n",
    "    \n"
   ]
  },
  {
   "cell_type": "code",
   "execution_count": 185,
   "metadata": {},
   "outputs": [
    {
     "data": {
      "text/plain": [
       "{'url': 'https://www.opindia.com/2020/01/madhya-pradesh-indore-sdm-procession-aharya-vidyasagar-permission-letter-anti-caa/',\n",
       " 'title': 'Madhya Pradesh: Jain community seeks permission to hold a procession for Acharya Vidyasagar, permission letter says it has to be anti-CAA',\n",
       " 'time': '2020-01-08T10:34:31+00:00',\n",
       " 'text': ['',\n",
       "  'Madhya Pradesh: Jain community seeks permission to hold a procession for Acharya Vidyasagar, permission letter says it has to be anti-CAA',\n",
       "  'The Collector of Indore Lokesh Jatav said that an explanation had been sought from the SDM who issued the letter. However, Jatav termed it a \"human error\" because the administration issued similar letters to organisers who wanted to take out rallies to oppose the citizenship law.',\n",
       "  'OPINDIA STAFF',\n",
       "  'JANUARY 8, 2020',\n",
       "  'Madhya Pradesh CM Kamal Nath/ Representational Image',\n",
       "  'Engagements1622',\n",
       "  'The Jain community in Indore had sought permission to take a procession to welcome their leader Acharya Vidyasagar. However, according to a report in Indian  Express, the authorities in the Madhya Pradesh told them they can take out the procession only if the rally is against the new citizenship law.\\nA massive controversy has erupted in Congress-ruled Madhya Pradesh after the government authorities told the Jain community that they could take out a procession only if the rally was against the Citizenship Amendment Act.\\nThe condition laid has angered the Jain community, which had sought permission for the procession to welcome a spiritual leader Acharya Vidyasagar.\\n- Ad -\\n- article resumes -\\nWhile granting conditional permission in a letter dated 4 January, the SDM had put up 17 points before the Jain community. The 15th point referred to the citizenship law. The rest were concerning the “dos and don’ts” for the organisers as Section 144 was in force.',\n",
       "  'UPDATED: JANUARY 8, 2020',\n",
       "  '',\n",
       "  'TOPICS :Anti-CAA RiotsCitizenship Amendment ActCongressCongress EcosystemJainKamal NathMadhya PradeshMadhya Pradesh CongressMinoritiesProtest']}"
      ]
     },
     "execution_count": 185,
     "metadata": {},
     "output_type": "execute_result"
    }
   ],
   "source": [
    "arcs[-1]"
   ]
  },
  {
   "cell_type": "code",
   "execution_count": 167,
   "metadata": {},
   "outputs": [
    {
     "data": {
      "text/plain": [
       "['',\n",
       " 'Disgruntled ex-IAS officer Kannan Gopinathan spreads false apprehensions about the CAA, NRC and NPR',\n",
       " 'It appears that Kannan himself has not read the Citizenship Amendment Act 2019 as well as the original Citizenship Act, 1955',\n",
       " 'OPINDIA STAFF',\n",
       " 'JANUARY 11, 2020',\n",
       " 'Kannan Gopinathan(Source: The Week)',\n",
       " 'Engagements337',\n",
       " 'As the misconception surrounding the Citizenship Amendment Act appears to be diminishing, some of the left-leaning intellectuals are going overboard to fan falsehoods and distortions about the recently legislated act. One such intellectual is the former IAS officer Kannan Gopinathan, who brazenly indulged in fueling fear among people with regard to the act that intends to grant citizenship to the persecuted minorities from Pakistan, Afghanistan and Bangladesh.\\nSpeaking at an event in Bengaluru, Kannan tried to imply that the Act has several loopholes which might be exploited by the central government. He argued that the Citizenship Amendment Act has not declared who an “illegal immigrant” is.\\nThe relevant section from the News Minute Article\\n- Ad -\\n- article resumes -\\nHowever, it appears that Kannan Gopinathan himself has not read the Citizenship Amendment Act 2019 as well as the original Citizenship Act, 1955, or he has no idea about acts and their amendments. The CAA is just an amendment to the existing Citizenship Act 1955. The CAA becomes part of the Citizenship Act by providing fast-tracking of the citizenship process for the persecuted minorities from Pakistan, Afghanistan and Bangladesh, and it is not an independent act.\\nThe Citizenship Act 1955 clearly states the definition of an “illegal immigrant”. The act mentions that “illegal migrant” means a foreigner who has entered into India “either without a valid passport or travel documents and such other document or authority as may be prescribed by or under any law in that behalf or with a valid passport or other travel documents and such other document or authority as may be prescribed by or under any in that behalf but remains therein beyond the permitted period of time”.\\nCitizenship Act 1955\\nThis is the case with any amendment, they define words only if they are newly introduced, the amendments do not define terms which are already defined in the original act, as there is no need to do that. By alleging that the amendment does not define the term ‘illegal immigrant’, the former IAS officer displays a shocking ignorance about the Indian legal system.\\nHowever, Kannan did not stop there. Continuing his fear-mongering about the Act amongst the Muslim population of the country, Kannan said in the interaction that the Citizenship Amendment Act does not “clearly say how Indian Muslims will be spared during the process”.\\nThe relevant section from the News Minute article\\nBy alleging that there is nothing in the Act that states Muslims will be spared, Kannan is not only conveniently brushing aside the assurances provided by PM Modi and Union Home Minister Amit Shah that the Act in no way affect the Indian Muslims, but also adding fuel to fire by alluding that Indian Muslims might lose their citizenship due to enactment of the CAA. However, the Act applies to persons only belonging to three foreign countries-Pakistan, Afghanistan and Bangladesh and not to the Indian citizens.\\nNotwithstanding PM Modi and Union Home Minister Amit Shah’s repeated assurances that the Citizenship Amendment Act 2019 has no bearing on the Indian Muslims, Kannan continued inciting misgivings about the Act in a desperate attempt to keep alive the wilting anti-CAA protests.\\nHelp Opindia Reach Every Indian. Share This Post\\nWhatsApp\\nTwitter\\nFacebook\\nFlipboard\\nFacebook Messenger\\nShare',\n",
       " 'UPDATED: JANUARY 11, 2020',\n",
       " '',\n",
       " 'TOPICS :CAACitizenship ActCitizenship Amendment ActIllegal ImmigrantsKannan Gopinathan']"
      ]
     },
     "execution_count": 167,
     "metadata": {},
     "output_type": "execute_result"
    }
   ],
   "source": []
  },
  {
   "cell_type": "code",
   "execution_count": null,
   "metadata": {},
   "outputs": [],
   "source": []
  }
 ],
 "metadata": {
  "kernelspec": {
   "display_name": "Python 3",
   "language": "python",
   "name": "python3"
  },
  "language_info": {
   "codemirror_mode": {
    "name": "ipython",
    "version": 3
   },
   "file_extension": ".py",
   "mimetype": "text/x-python",
   "name": "python",
   "nbconvert_exporter": "python",
   "pygments_lexer": "ipython3",
   "version": "3.7.3"
  }
 },
 "nbformat": 4,
 "nbformat_minor": 4
}
